{
  "nbformat": 4,
  "nbformat_minor": 0,
  "metadata": {
    "colab": {
      "name": "Análise de doenças cardiovasculares",
      "provenance": [],
      "collapsed_sections": [],
      "include_colab_link": true
    },
    "kernelspec": {
      "name": "python3",
      "display_name": "Python 3"
    }
  },
  "cells": [
    {
      "cell_type": "markdown",
      "metadata": {
        "id": "view-in-github",
        "colab_type": "text"
      },
      "source": [
        "<a href=\"https://colab.research.google.com/github/paulorayner/repositorio_dsnp/blob/master/An%C3%A1lise_de_doen%C3%A7as_cardiovasculares.ipynb\" target=\"_parent\"><img src=\"https://colab.research.google.com/assets/colab-badge.svg\" alt=\"Open In Colab\"/></a>"
      ]
    },
    {
      "cell_type": "markdown",
      "metadata": {
        "id": "O1GtGnzLz3vR",
        "colab_type": "text"
      },
      "source": [
        "#**Análise exploratória de dados de doenças cardiovasculares**\n",
        "De acordo com a [Diretriz de Prevenção Cardiovascular da Sociedade Brasileira de Cardiologia - 2019](http://publicacoes.cardiol.br/2014/diretrizes/2019/atualizacao-da-diretriz-de-prevencao-cardiovascular-da-sociedade-brasileira-de-cardiologia-2019.asp), a principal causa de morte no Brasil e no mundo são as doenças cardiovasculares. A presença de diversos fatores de risco como obesidade, diabetes, hipertensão, fatores genéticos e comportamentais como má alimentação, tabagismo e sedentarismo podem contribuir para o acomentimento de doenças cardiovasculares. \n",
        "\n",
        "O desenvolvimento de tecnologias e métodos avançados de diagnósticos tem sido extensivamente explorados. Por exemplo, a aplicação de modelos de inteligência artificial para aumentar o sucesso no diagnóstico com uso de exames minimamente invasivos como análise de glicemia, colesterol, angiogramas, eletrocardiogramas, entre outros. \n",
        "\n",
        "Desas forma, este notebook tem como objetivo explorar as condições de saúde de pacientes submetidos a exames para teste clínico, para aplicação de um algoritmo de inteligência artificial.\n",
        "\n",
        "**Atenção! Este projeto não tem como objetivo fornecer diagnósticos e tampouco deverá ser utilizado para este fim.**"
      ]
    },
    {
      "cell_type": "markdown",
      "metadata": {
        "id": "F3XPABqpLFOX",
        "colab_type": "text"
      },
      "source": [
        "## Obtenção dos Dados\n",
        "\n",
        "Os dados utilizados na execução deste projeto foram obitidos a partir do [UCI Machine Learning Repository](https://archive.ics.uci.edu/ml/datasets/heart+Disease) da ***Cleveland Clinic Foundation***, provenientes do trabalho publicado por [Detrano e colaboradores (1989)](https://www.sciencedirect.com/science/article/abs/pii/0002914989905249) na revista **The American Journal of Cardiology**. Neste trabalho os autores tinham como objetivo avaliar a acurácia de um algoritmo que utiliza um conjunto de dados relativamente pequeno, seria capaz de prediser de forma precisa a probabilidade de Doença Arterial Coronriana (DAC). \n",
        "\n",
        "###Características do *dataset*\n",
        "Por questões de sigilo foram removidos qualquer informação que pudesse levar a identidade dos pacientes.\n",
        "\n",
        "O *dataset* processado contém dados de 303 pessoas e 76 atributos. Entretanto, os principais artigos e estudos publicados optaram por usar apenas 14 atributos, considerados de maior relevância. Da mesma maneira, este projeto de *Data Science* usará essas mesmas 14 variáveis principais.\n",
        "\n",
        "* O arquivo `csv` com os dados de 303 pessoas e 14 atributos pode ser baixado [neste link](https://raw.githubusercontent.com/carlosfab/curso_data_science_na_pratica/master/modulo_03/heart-disease-uci.csv).\n",
        "\n",
        "* O arquivo contendo todos os detalhes e documentação do *dataset* usado neste projeto se encontra [neste link](https://github.com/carlosfab/curso_data_science_na_pratica/blob/master/modulo_03/heart-disease.names).\n",
        "\n",
        "* Há ainda um *dataset* secundário que será utilizado para ver a evolução no número de mortes por doenças cardiovasculares no Brasil (entre os anos de 2004-2017). Esses dados foram disponibilizados pela [Sociedade Brasileira de Cardiologia](http://www.cardiometro.com.br/anteriores.asp), e podem ser baixados [neste link](https://raw.githubusercontent.com/carlosfab/curso_data_science_na_pratica/master/modulo_03/mortes_doencas_cardiovasculares.csv).\n",
        "\n"
      ]
    },
    {
      "cell_type": "markdown",
      "metadata": {
        "id": "JTJNji8-CFbX",
        "colab_type": "text"
      },
      "source": [
        "### Informações sobre os atributos:\n",
        "\n",
        "\n",
        "* `age` - idade em anos\n",
        "* `sex` - sexo do paciente\n",
        "  * 0: mulher\n",
        "  * 1: homem\n",
        "* `cp` - tipo da dor torácica\n",
        "  * 1: angina típica\n",
        "  * 2: angina atípica\n",
        "  * 3: dor não cardíaca\n",
        "  * 4: assintomática\n",
        "* `trestbps` - pressão arterial em repouso\n",
        "* `chol` - colesterol sérico (*mg/dl*)\n",
        "* `fbs` - glicemia em jejum > 120*mg/dl*\n",
        "  * 0: `False`\n",
        "  * 1: `True`\n",
        "* `restecg` - resultado do eletrocardiografia de repouso\n",
        "  * 0: normal\n",
        "  * 1: anormalidades de ST-T  (inversão da onda T e elevação ou depressão de > 0.05*mV*)\n",
        "  * 2: hipertrofia ventricular esquerda provável ou definitiva (pelos critérios de Romhilt-Estes)\n",
        "* `thalach` - frequência cardíaca máxima atingida\n",
        "* `exang` - angina induzida pelo exercício\n",
        "  * 0: não\n",
        "  * 1: sim\n",
        "* `oldpeak` - depessão do segmento ST induzida pelo exercício em relação ao repouso - (indica cardiopatia isquêmica.)\n",
        "* `slope` - inclinação do segmento ST no pico do exercício\n",
        "* `ca` - número de vasos principais colorido por fluoroscopia\n",
        "* `thal` - *thallium stress test*\n",
        "  * 3: normal\n",
        "  * 6: defeito fixo\n",
        "  * 7: defeito reversível\n",
        "* `num` - diagnóstico de doença cardíaca (diagnóstico angiográfico)\n",
        "  * 0: não há doença cardíaca ( < 50% de estreitamento do diâmetro)\n",
        "  * 1,2,3,4: há doença cardíaca ( > 50% de estreitamento do diâmetro)"
      ]
    },
    {
      "cell_type": "markdown",
      "metadata": {
        "id": "heDJUp5qNqvI",
        "colab_type": "text"
      },
      "source": [
        "## Importação das bibliotecas\n",
        "Para que seja possível executar as tarefas, é preciso fazer a importação das bibliotecas para o seu ambiente. As bibliotecas possuem conjuntos de ferramentas que possibilitam a execução das tarefas (leitura de arquivos, construção de gráficos, etc). \n",
        "Neste momento serão importadas duas bibliotecas \n",
        "* pandas (permite a contrução do *dataframe*\n",
        "* matplotlib.pyplot (construção dos gráficos)"
      ]
    },
    {
      "cell_type": "code",
      "metadata": {
        "id": "35ab_uY5Po25",
        "colab_type": "code",
        "colab": {}
      },
      "source": [
        "import pandas as pd\n",
        "import matplotlib.pyplot as plt\n",
        "import numpy as np\n",
        "import seaborn as sns\n",
        "from matplotlib import colors\n",
        "from matplotlib.ticker import PercentFormatter"
      ],
      "execution_count": 0,
      "outputs": []
    },
    {
      "cell_type": "markdown",
      "metadata": {
        "id": "zF8I1DcSP7at",
        "colab_type": "text"
      },
      "source": [
        "## Importação dos dados e contrução do **dataframe**.\n",
        "os dados serão importados conforme informadas na introdução do projeto.\n",
        "\n",
        "* O dataframe contendo os dados da UCI receberá o nome de **df_uci**.\n",
        "* O dataframe contendo os dados do Brasil receberá o nome de **df_br**."
      ]
    },
    {
      "cell_type": "code",
      "metadata": {
        "id": "t_44km2RQcZs",
        "colab_type": "code",
        "colab": {}
      },
      "source": [
        "#url dos conjuntos de dados \n",
        "\n",
        "data_set_uci = 'https://raw.githubusercontent.com/carlosfab/curso_data_science_na_pratica/master/modulo_03/heart-disease-uci.csv'\n",
        "data_set_br = 'https://raw.githubusercontent.com/carlosfab/curso_data_science_na_pratica/master/modulo_03/mortes_doencas_cardiovasculares.csv'\n",
        "\n",
        "#Criação dos dataframes \n",
        "\n",
        "df_uci = pd.read_csv(data_set_uci) #dataframe com dados da UCI\n",
        "\n",
        "df_br = pd.read_csv(data_set_br, index_col='ano') #dataframe com dados do Brasil"
      ],
      "execution_count": 0,
      "outputs": []
    },
    {
      "cell_type": "markdown",
      "metadata": {
        "id": "KD6loTYCbfT-",
        "colab_type": "text"
      },
      "source": [
        "### Verificando a criação do dataframe\n",
        "Para verificar se os dados foram importados corretamente e o dataframe foi deviadamente construído. Vamos utilizar a função `head()`. Por padrão a esta função retorna as 5 primeiras linhas do dataframe. Caso seja de interesse do usuário visualizar mais linhas ou menos linhas, basta inserir o número entre os parênteses. Por exemplo, para retornar as 15 primeiras linhas basta executar `nome_do_data_frame.head(15)`."
      ]
    },
    {
      "cell_type": "code",
      "metadata": {
        "id": "GBViQoz5P0-z",
        "colab_type": "code",
        "outputId": "8a52d867-76d1-4ced-8254-1594e9e0cf6a",
        "colab": {
          "base_uri": "https://localhost:8080/",
          "height": 363
        }
      },
      "source": [
        "# Verificando a importação dos dados e construção do dataframe da UCI. Serão visualizadas as 10 primeiras linhas.\n",
        "df_uci.head(10)"
      ],
      "execution_count": 50,
      "outputs": [
        {
          "output_type": "execute_result",
          "data": {
            "text/html": [
              "<div>\n",
              "<style scoped>\n",
              "    .dataframe tbody tr th:only-of-type {\n",
              "        vertical-align: middle;\n",
              "    }\n",
              "\n",
              "    .dataframe tbody tr th {\n",
              "        vertical-align: top;\n",
              "    }\n",
              "\n",
              "    .dataframe thead th {\n",
              "        text-align: right;\n",
              "    }\n",
              "</style>\n",
              "<table border=\"1\" class=\"dataframe\">\n",
              "  <thead>\n",
              "    <tr style=\"text-align: right;\">\n",
              "      <th></th>\n",
              "      <th>age</th>\n",
              "      <th>sex</th>\n",
              "      <th>cp</th>\n",
              "      <th>trestbps</th>\n",
              "      <th>chol</th>\n",
              "      <th>fbs</th>\n",
              "      <th>restecg</th>\n",
              "      <th>thalach</th>\n",
              "      <th>exang</th>\n",
              "      <th>oldpeak</th>\n",
              "      <th>slope</th>\n",
              "      <th>ca</th>\n",
              "      <th>thal</th>\n",
              "      <th>num</th>\n",
              "    </tr>\n",
              "  </thead>\n",
              "  <tbody>\n",
              "    <tr>\n",
              "      <th>0</th>\n",
              "      <td>63.0</td>\n",
              "      <td>1.0</td>\n",
              "      <td>1.0</td>\n",
              "      <td>145.0</td>\n",
              "      <td>233.0</td>\n",
              "      <td>1.0</td>\n",
              "      <td>2.0</td>\n",
              "      <td>150.0</td>\n",
              "      <td>0.0</td>\n",
              "      <td>2.3</td>\n",
              "      <td>3.0</td>\n",
              "      <td>0.0</td>\n",
              "      <td>6.0</td>\n",
              "      <td>0</td>\n",
              "    </tr>\n",
              "    <tr>\n",
              "      <th>1</th>\n",
              "      <td>67.0</td>\n",
              "      <td>1.0</td>\n",
              "      <td>4.0</td>\n",
              "      <td>160.0</td>\n",
              "      <td>286.0</td>\n",
              "      <td>0.0</td>\n",
              "      <td>2.0</td>\n",
              "      <td>108.0</td>\n",
              "      <td>1.0</td>\n",
              "      <td>1.5</td>\n",
              "      <td>2.0</td>\n",
              "      <td>3.0</td>\n",
              "      <td>3.0</td>\n",
              "      <td>2</td>\n",
              "    </tr>\n",
              "    <tr>\n",
              "      <th>2</th>\n",
              "      <td>67.0</td>\n",
              "      <td>1.0</td>\n",
              "      <td>4.0</td>\n",
              "      <td>120.0</td>\n",
              "      <td>229.0</td>\n",
              "      <td>0.0</td>\n",
              "      <td>2.0</td>\n",
              "      <td>129.0</td>\n",
              "      <td>1.0</td>\n",
              "      <td>2.6</td>\n",
              "      <td>2.0</td>\n",
              "      <td>2.0</td>\n",
              "      <td>7.0</td>\n",
              "      <td>1</td>\n",
              "    </tr>\n",
              "    <tr>\n",
              "      <th>3</th>\n",
              "      <td>37.0</td>\n",
              "      <td>1.0</td>\n",
              "      <td>3.0</td>\n",
              "      <td>130.0</td>\n",
              "      <td>250.0</td>\n",
              "      <td>0.0</td>\n",
              "      <td>0.0</td>\n",
              "      <td>187.0</td>\n",
              "      <td>0.0</td>\n",
              "      <td>3.5</td>\n",
              "      <td>3.0</td>\n",
              "      <td>0.0</td>\n",
              "      <td>3.0</td>\n",
              "      <td>0</td>\n",
              "    </tr>\n",
              "    <tr>\n",
              "      <th>4</th>\n",
              "      <td>41.0</td>\n",
              "      <td>0.0</td>\n",
              "      <td>2.0</td>\n",
              "      <td>130.0</td>\n",
              "      <td>204.0</td>\n",
              "      <td>0.0</td>\n",
              "      <td>2.0</td>\n",
              "      <td>172.0</td>\n",
              "      <td>0.0</td>\n",
              "      <td>1.4</td>\n",
              "      <td>1.0</td>\n",
              "      <td>0.0</td>\n",
              "      <td>3.0</td>\n",
              "      <td>0</td>\n",
              "    </tr>\n",
              "    <tr>\n",
              "      <th>5</th>\n",
              "      <td>56.0</td>\n",
              "      <td>1.0</td>\n",
              "      <td>2.0</td>\n",
              "      <td>120.0</td>\n",
              "      <td>236.0</td>\n",
              "      <td>0.0</td>\n",
              "      <td>0.0</td>\n",
              "      <td>178.0</td>\n",
              "      <td>0.0</td>\n",
              "      <td>0.8</td>\n",
              "      <td>1.0</td>\n",
              "      <td>0.0</td>\n",
              "      <td>3.0</td>\n",
              "      <td>0</td>\n",
              "    </tr>\n",
              "    <tr>\n",
              "      <th>6</th>\n",
              "      <td>62.0</td>\n",
              "      <td>0.0</td>\n",
              "      <td>4.0</td>\n",
              "      <td>140.0</td>\n",
              "      <td>268.0</td>\n",
              "      <td>0.0</td>\n",
              "      <td>2.0</td>\n",
              "      <td>160.0</td>\n",
              "      <td>0.0</td>\n",
              "      <td>3.6</td>\n",
              "      <td>3.0</td>\n",
              "      <td>2.0</td>\n",
              "      <td>3.0</td>\n",
              "      <td>3</td>\n",
              "    </tr>\n",
              "    <tr>\n",
              "      <th>7</th>\n",
              "      <td>57.0</td>\n",
              "      <td>0.0</td>\n",
              "      <td>4.0</td>\n",
              "      <td>120.0</td>\n",
              "      <td>354.0</td>\n",
              "      <td>0.0</td>\n",
              "      <td>0.0</td>\n",
              "      <td>163.0</td>\n",
              "      <td>1.0</td>\n",
              "      <td>0.6</td>\n",
              "      <td>1.0</td>\n",
              "      <td>0.0</td>\n",
              "      <td>3.0</td>\n",
              "      <td>0</td>\n",
              "    </tr>\n",
              "    <tr>\n",
              "      <th>8</th>\n",
              "      <td>63.0</td>\n",
              "      <td>1.0</td>\n",
              "      <td>4.0</td>\n",
              "      <td>130.0</td>\n",
              "      <td>254.0</td>\n",
              "      <td>0.0</td>\n",
              "      <td>2.0</td>\n",
              "      <td>147.0</td>\n",
              "      <td>0.0</td>\n",
              "      <td>1.4</td>\n",
              "      <td>2.0</td>\n",
              "      <td>1.0</td>\n",
              "      <td>7.0</td>\n",
              "      <td>2</td>\n",
              "    </tr>\n",
              "    <tr>\n",
              "      <th>9</th>\n",
              "      <td>53.0</td>\n",
              "      <td>1.0</td>\n",
              "      <td>4.0</td>\n",
              "      <td>140.0</td>\n",
              "      <td>203.0</td>\n",
              "      <td>1.0</td>\n",
              "      <td>2.0</td>\n",
              "      <td>155.0</td>\n",
              "      <td>1.0</td>\n",
              "      <td>3.1</td>\n",
              "      <td>3.0</td>\n",
              "      <td>0.0</td>\n",
              "      <td>7.0</td>\n",
              "      <td>1</td>\n",
              "    </tr>\n",
              "  </tbody>\n",
              "</table>\n",
              "</div>"
            ],
            "text/plain": [
              "    age  sex   cp  trestbps   chol  fbs  ...  exang  oldpeak  slope   ca  thal  num\n",
              "0  63.0  1.0  1.0     145.0  233.0  1.0  ...    0.0      2.3    3.0  0.0   6.0    0\n",
              "1  67.0  1.0  4.0     160.0  286.0  0.0  ...    1.0      1.5    2.0  3.0   3.0    2\n",
              "2  67.0  1.0  4.0     120.0  229.0  0.0  ...    1.0      2.6    2.0  2.0   7.0    1\n",
              "3  37.0  1.0  3.0     130.0  250.0  0.0  ...    0.0      3.5    3.0  0.0   3.0    0\n",
              "4  41.0  0.0  2.0     130.0  204.0  0.0  ...    0.0      1.4    1.0  0.0   3.0    0\n",
              "5  56.0  1.0  2.0     120.0  236.0  0.0  ...    0.0      0.8    1.0  0.0   3.0    0\n",
              "6  62.0  0.0  4.0     140.0  268.0  0.0  ...    0.0      3.6    3.0  2.0   3.0    3\n",
              "7  57.0  0.0  4.0     120.0  354.0  0.0  ...    1.0      0.6    1.0  0.0   3.0    0\n",
              "8  63.0  1.0  4.0     130.0  254.0  0.0  ...    0.0      1.4    2.0  1.0   7.0    2\n",
              "9  53.0  1.0  4.0     140.0  203.0  1.0  ...    1.0      3.1    3.0  0.0   7.0    1\n",
              "\n",
              "[10 rows x 14 columns]"
            ]
          },
          "metadata": {
            "tags": []
          },
          "execution_count": 50
        }
      ]
    },
    {
      "cell_type": "markdown",
      "metadata": {
        "id": "xGfqlRc3DqzD",
        "colab_type": "text"
      },
      "source": [
        "##Obervação\n",
        "Olhando acima as informações sobre os atributos, percebemos que nossa variável alvo (`num`) possui cinco valores possíveis: \\[0, 1, 2, 3, 4\\].\n",
        "Sendo 0 para ausência e 1, 2, 3 e 4 para presença de doenças cardíaca.\n",
        "\n",
        "No entanto, seguindo a maioria das pesquisas que utilizaram esse *dataset*, iremos considerar apenas duas situações possíveis:\n",
        "\n",
        "* **0** - não há doença cardíaca\n",
        "* **1** - há doença cardíaca\n",
        "\n",
        "Então, iremos igualar a 1 os valores compreendidos entre 1-4."
      ]
    },
    {
      "cell_type": "code",
      "metadata": {
        "id": "-i8mOjH45-d1",
        "colab_type": "code",
        "outputId": "dfb71062-68e3-46a6-bd32-55a05b16f26c",
        "colab": {
          "base_uri": "https://localhost:8080/",
          "height": 127
        }
      },
      "source": [
        "# variável alvo antes\n",
        "df_uci.num.value_counts()"
      ],
      "execution_count": 51,
      "outputs": [
        {
          "output_type": "execute_result",
          "data": {
            "text/plain": [
              "0    164\n",
              "1     55\n",
              "2     36\n",
              "3     35\n",
              "4     13\n",
              "Name: num, dtype: int64"
            ]
          },
          "metadata": {
            "tags": []
          },
          "execution_count": 51
        }
      ]
    },
    {
      "cell_type": "markdown",
      "metadata": {
        "id": "fH_ldaxL7PF_",
        "colab_type": "text"
      },
      "source": [
        "Primeiramente serão selecionados todos os valores da coluna 'num' diferentes de 0. Então, para estes valores será atribuído o novo valor 1. Para isso será utilizado `loc[]`. "
      ]
    },
    {
      "cell_type": "code",
      "metadata": {
        "id": "X8Z0byCh6Mw_",
        "colab_type": "code",
        "colab": {}
      },
      "source": [
        "# converter valores >= 1 em 1. Utilizando a loc[] é possível selecionar determinada coluna e fazer a modificação dos dados \n",
        "df_uci.loc[df_uci.num != 0, 'num'] = 1"
      ],
      "execution_count": 0,
      "outputs": []
    },
    {
      "cell_type": "code",
      "metadata": {
        "id": "nCRd6aNu6Xj6",
        "colab_type": "code",
        "outputId": "099529a0-3cc1-49ce-d4a8-b5eb369c91a6",
        "colab": {
          "base_uri": "https://localhost:8080/",
          "height": 72
        }
      },
      "source": [
        "# variável alvo depois\n",
        "df_uci.num.value_counts()"
      ],
      "execution_count": 53,
      "outputs": [
        {
          "output_type": "execute_result",
          "data": {
            "text/plain": [
              "0    164\n",
              "1    139\n",
              "Name: num, dtype: int64"
            ]
          },
          "metadata": {
            "tags": []
          },
          "execution_count": 53
        }
      ]
    },
    {
      "cell_type": "markdown",
      "metadata": {
        "id": "9RSuHgzT7yDv",
        "colab_type": "text"
      },
      "source": [
        "Note que a quantidade de pacientes que não apresentava doença cardíaca continua '0' sendo 164. Já a quantidade de pacientes com doenças cardíacas '1' é a soma dos pacientes classidicados de 1 a 4. \n"
      ]
    },
    {
      "cell_type": "code",
      "metadata": {
        "id": "brarb7zycuHv",
        "colab_type": "code",
        "outputId": "5a0ee5ca-ccf8-447d-be6c-31d920252f4d",
        "colab": {
          "base_uri": "https://localhost:8080/",
          "height": 394
        }
      },
      "source": [
        "#Verificando a importação do conjunto de dados e contrução do dataframe df_br\n",
        "df_br.head(10)"
      ],
      "execution_count": 54,
      "outputs": [
        {
          "output_type": "execute_result",
          "data": {
            "text/html": [
              "<div>\n",
              "<style scoped>\n",
              "    .dataframe tbody tr th:only-of-type {\n",
              "        vertical-align: middle;\n",
              "    }\n",
              "\n",
              "    .dataframe tbody tr th {\n",
              "        vertical-align: top;\n",
              "    }\n",
              "\n",
              "    .dataframe thead th {\n",
              "        text-align: right;\n",
              "    }\n",
              "</style>\n",
              "<table border=\"1\" class=\"dataframe\">\n",
              "  <thead>\n",
              "    <tr style=\"text-align: right;\">\n",
              "      <th></th>\n",
              "      <th>mortes_doencas_cardio</th>\n",
              "    </tr>\n",
              "    <tr>\n",
              "      <th>ano</th>\n",
              "      <th></th>\n",
              "    </tr>\n",
              "  </thead>\n",
              "  <tbody>\n",
              "    <tr>\n",
              "      <th>2017</th>\n",
              "      <td>383.961</td>\n",
              "    </tr>\n",
              "    <tr>\n",
              "      <th>2016</th>\n",
              "      <td>362.091</td>\n",
              "    </tr>\n",
              "    <tr>\n",
              "      <th>2015</th>\n",
              "      <td>349.584</td>\n",
              "    </tr>\n",
              "    <tr>\n",
              "      <th>2014</th>\n",
              "      <td>340.284</td>\n",
              "    </tr>\n",
              "    <tr>\n",
              "      <th>2013</th>\n",
              "      <td>339.672</td>\n",
              "    </tr>\n",
              "    <tr>\n",
              "      <th>2012</th>\n",
              "      <td>333.295</td>\n",
              "    </tr>\n",
              "    <tr>\n",
              "      <th>2011</th>\n",
              "      <td>335.213</td>\n",
              "    </tr>\n",
              "    <tr>\n",
              "      <th>2010</th>\n",
              "      <td>326.371</td>\n",
              "    </tr>\n",
              "    <tr>\n",
              "      <th>2009</th>\n",
              "      <td>320.074</td>\n",
              "    </tr>\n",
              "    <tr>\n",
              "      <th>2008</th>\n",
              "      <td>317.797</td>\n",
              "    </tr>\n",
              "  </tbody>\n",
              "</table>\n",
              "</div>"
            ],
            "text/plain": [
              "      mortes_doencas_cardio\n",
              "ano                        \n",
              "2017                383.961\n",
              "2016                362.091\n",
              "2015                349.584\n",
              "2014                340.284\n",
              "2013                339.672\n",
              "2012                333.295\n",
              "2011                335.213\n",
              "2010                326.371\n",
              "2009                320.074\n",
              "2008                317.797"
            ]
          },
          "metadata": {
            "tags": []
          },
          "execution_count": 54
        }
      ]
    },
    {
      "cell_type": "markdown",
      "metadata": {
        "id": "pN5onokdd3a1",
        "colab_type": "text"
      },
      "source": [
        "##Características dos dataframes\n",
        "É extremamente importante entender as características dos dataframes como tamanho (número de entradas e variáveis), classificação das variáveis (texto ou números), dados estatísticos."
      ]
    },
    {
      "cell_type": "markdown",
      "metadata": {
        "id": "Nc3nxWpJe36h",
        "colab_type": "text"
      },
      "source": [
        "###Tamanho dos dataframes \n",
        "Um dataframe é composto por linhas e colunas. O parâmetro `shape[]`retorna a contagem do número de linhas e colunas. Para identicar os valores, shape utiliza os índices 0 e 1. O índice 0 representa o número de linhas, o índice 1 representa o número de colunas. Dessa forma, para encontrar o número de linhas (entradas) utiliza-se `nome_do_dataframe.shape[0]`, para o número de colunas (variáveis) `nome_do_dataframe.shape[1]`."
      ]
    },
    {
      "cell_type": "code",
      "metadata": {
        "id": "v6UvzNnvTB4q",
        "colab_type": "code",
        "outputId": "7aa762fa-2ec1-4699-9ac3-c94677868fec",
        "colab": {
          "base_uri": "https://localhost:8080/",
          "height": 35
        }
      },
      "source": [
        "#Tamanho do dataframe df_uci. A função print() imprime/retorna tudo que está dentro dos parênteses.\n",
        "print('O dataframe df_uci possui',(df_uci.shape[0]), 'entradas (linhas) e ', (df_uci.shape[1]), 'variáveis (colunas)')"
      ],
      "execution_count": 55,
      "outputs": [
        {
          "output_type": "stream",
          "text": [
            "O dataframe df_uci possui 303 entradas (linhas) e  14 variáveis (colunas)\n"
          ],
          "name": "stdout"
        }
      ]
    },
    {
      "cell_type": "code",
      "metadata": {
        "id": "jDIjxilEee4E",
        "colab_type": "code",
        "outputId": "48ee813f-b122-46cc-dff6-542520cc679f",
        "colab": {
          "base_uri": "https://localhost:8080/",
          "height": 35
        }
      },
      "source": [
        "#Tamando do dataframe df_br\n",
        "print('O dataframe df_br possui',(df_br.shape[0]), 'entradas (linhas) e ', (df_br.shape[1]), 'variável (coluna)')"
      ],
      "execution_count": 56,
      "outputs": [
        {
          "output_type": "stream",
          "text": [
            "O dataframe df_br possui 14 entradas (linhas) e  1 variável (coluna)\n"
          ],
          "name": "stdout"
        }
      ]
    },
    {
      "cell_type": "markdown",
      "metadata": {
        "id": "R9vJ49Oug9S9",
        "colab_type": "text"
      },
      "source": [
        "### Classificação das variáveis\n",
        "Uma coluna pode conter números ou texto. Textos são identificados como `str`, números são identificados como `int`(números sem casas decimais) ou `float`(números com casas decimais). Para determinar como estão classificados os dados do dataframe será utilizado a função `display()` juntamente com o comando `dtypes` (`nome_do_dataframe.dtypes`) que retorna o tipo de dados. \n",
        "\n",
        "**Obs.:** A função `display` é semelhando à função `print (que também poderia ser utilizada para esse fim)."
      ]
    },
    {
      "cell_type": "code",
      "metadata": {
        "id": "jXF_RgSnh_kV",
        "colab_type": "code",
        "outputId": "58902f95-54d3-4a37-f8f7-7b3759f03a92",
        "colab": {
          "base_uri": "https://localhost:8080/",
          "height": 293
        }
      },
      "source": [
        "#Classificação dos dados df_uci\n",
        "display(df_uci.dtypes)"
      ],
      "execution_count": 57,
      "outputs": [
        {
          "output_type": "display_data",
          "data": {
            "text/plain": [
              "age         float64\n",
              "sex         float64\n",
              "cp          float64\n",
              "trestbps    float64\n",
              "chol        float64\n",
              "fbs         float64\n",
              "restecg     float64\n",
              "thalach     float64\n",
              "exang       float64\n",
              "oldpeak     float64\n",
              "slope       float64\n",
              "ca          float64\n",
              "thal        float64\n",
              "num           int64\n",
              "dtype: object"
            ]
          },
          "metadata": {
            "tags": []
          }
        }
      ]
    },
    {
      "cell_type": "markdown",
      "metadata": {
        "id": "vnE1IzK-vank",
        "colab_type": "text"
      },
      "source": [
        "### Resultado\n",
        "Veja que df_uci é composto apenas por números, sendo a maioria, números com casas decimais `float`e apenas uma variável com números inteiros `int`. "
      ]
    },
    {
      "cell_type": "code",
      "metadata": {
        "id": "tXab0rKQdwDs",
        "colab_type": "code",
        "outputId": "63ef2b71-34e5-4d53-c827-9262ac8d56cc",
        "colab": {
          "base_uri": "https://localhost:8080/",
          "height": 54
        }
      },
      "source": [
        "#Classificação dos dados df_br\n",
        "display(df_br.dtypes)"
      ],
      "execution_count": 58,
      "outputs": [
        {
          "output_type": "display_data",
          "data": {
            "text/plain": [
              "mortes_doencas_cardio    float64\n",
              "dtype: object"
            ]
          },
          "metadata": {
            "tags": []
          }
        }
      ]
    },
    {
      "cell_type": "markdown",
      "metadata": {
        "id": "SpcEC1PEv7th",
        "colab_type": "text"
      },
      "source": [
        "### Resultado\n",
        "O dataframe df_br é extremamente simples com apenas duas colunas. A coluna `ano` está classificada como número inteiro `int` e a coluna `mortes_doencas_cardio` como número com casas decimais `float`.\n",
        "\n",
        "A tabela abaixo mostra que os números estão com separador de milhares. Observa a primeira entrada **2017** =  **383.961**. Como a linguagem segue a configuração da língua inglesa o ponto (**.**) está sendo interpretado como uma separador de casa decimal ao invés de separador de milhar.\n",
        "Existem várias maneiras de manipular estes valores. Aqui será realizado um procedimento simples realizando os seguintes passos:\n",
        "\n",
        "* Primeiro vamos multiplicar por 1000 para que os valores chegem na escala correta. \n",
        "* Segundo passo é transformar esses números decimais (`float`) em números inteiros (`int`) como de fato são. Para isso será utilizado a função `astype()`."
      ]
    },
    {
      "cell_type": "code",
      "metadata": {
        "id": "JRFwvXFP4j9M",
        "colab_type": "code",
        "outputId": "e98bca36-f262-43bd-eee2-138aed7c7ad2",
        "colab": {
          "base_uri": "https://localhost:8080/",
          "height": 394
        }
      },
      "source": [
        "#Visualizando as 10 primeiras entradas\n",
        "df_br.head(10)"
      ],
      "execution_count": 59,
      "outputs": [
        {
          "output_type": "execute_result",
          "data": {
            "text/html": [
              "<div>\n",
              "<style scoped>\n",
              "    .dataframe tbody tr th:only-of-type {\n",
              "        vertical-align: middle;\n",
              "    }\n",
              "\n",
              "    .dataframe tbody tr th {\n",
              "        vertical-align: top;\n",
              "    }\n",
              "\n",
              "    .dataframe thead th {\n",
              "        text-align: right;\n",
              "    }\n",
              "</style>\n",
              "<table border=\"1\" class=\"dataframe\">\n",
              "  <thead>\n",
              "    <tr style=\"text-align: right;\">\n",
              "      <th></th>\n",
              "      <th>mortes_doencas_cardio</th>\n",
              "    </tr>\n",
              "    <tr>\n",
              "      <th>ano</th>\n",
              "      <th></th>\n",
              "    </tr>\n",
              "  </thead>\n",
              "  <tbody>\n",
              "    <tr>\n",
              "      <th>2017</th>\n",
              "      <td>383.961</td>\n",
              "    </tr>\n",
              "    <tr>\n",
              "      <th>2016</th>\n",
              "      <td>362.091</td>\n",
              "    </tr>\n",
              "    <tr>\n",
              "      <th>2015</th>\n",
              "      <td>349.584</td>\n",
              "    </tr>\n",
              "    <tr>\n",
              "      <th>2014</th>\n",
              "      <td>340.284</td>\n",
              "    </tr>\n",
              "    <tr>\n",
              "      <th>2013</th>\n",
              "      <td>339.672</td>\n",
              "    </tr>\n",
              "    <tr>\n",
              "      <th>2012</th>\n",
              "      <td>333.295</td>\n",
              "    </tr>\n",
              "    <tr>\n",
              "      <th>2011</th>\n",
              "      <td>335.213</td>\n",
              "    </tr>\n",
              "    <tr>\n",
              "      <th>2010</th>\n",
              "      <td>326.371</td>\n",
              "    </tr>\n",
              "    <tr>\n",
              "      <th>2009</th>\n",
              "      <td>320.074</td>\n",
              "    </tr>\n",
              "    <tr>\n",
              "      <th>2008</th>\n",
              "      <td>317.797</td>\n",
              "    </tr>\n",
              "  </tbody>\n",
              "</table>\n",
              "</div>"
            ],
            "text/plain": [
              "      mortes_doencas_cardio\n",
              "ano                        \n",
              "2017                383.961\n",
              "2016                362.091\n",
              "2015                349.584\n",
              "2014                340.284\n",
              "2013                339.672\n",
              "2012                333.295\n",
              "2011                335.213\n",
              "2010                326.371\n",
              "2009                320.074\n",
              "2008                317.797"
            ]
          },
          "metadata": {
            "tags": []
          },
          "execution_count": 59
        }
      ]
    },
    {
      "cell_type": "markdown",
      "metadata": {
        "id": "1hkIHCLV4td0",
        "colab_type": "text"
      },
      "source": [
        "######Note que os \n"
      ]
    },
    {
      "cell_type": "code",
      "metadata": {
        "id": "jdFj3te13YPY",
        "colab_type": "code",
        "colab": {}
      },
      "source": [
        "#Criando uma cópia do dataframe. Como medida de segurança, sempre manipular cópia dos dados\n",
        "df_brcopy = df_br.copy()"
      ],
      "execution_count": 0,
      "outputs": []
    },
    {
      "cell_type": "code",
      "metadata": {
        "id": "TpBI7dgH3lvx",
        "colab_type": "code",
        "colab": {}
      },
      "source": [
        "#Multiplicando os valores por mil\n",
        "df_brcopy['mortes_doencas_cardio'] = df_brcopy['mortes_doencas_cardio'] *1000"
      ],
      "execution_count": 0,
      "outputs": []
    },
    {
      "cell_type": "code",
      "metadata": {
        "id": "kVZ_pJEV3wDC",
        "colab_type": "code",
        "outputId": "2a973531-5a4b-4cf0-d736-d401b4b37c34",
        "colab": {
          "base_uri": "https://localhost:8080/",
          "height": 520
        }
      },
      "source": [
        "#Verificando o resultado\n",
        "df_brcopy.head(15)"
      ],
      "execution_count": 62,
      "outputs": [
        {
          "output_type": "execute_result",
          "data": {
            "text/html": [
              "<div>\n",
              "<style scoped>\n",
              "    .dataframe tbody tr th:only-of-type {\n",
              "        vertical-align: middle;\n",
              "    }\n",
              "\n",
              "    .dataframe tbody tr th {\n",
              "        vertical-align: top;\n",
              "    }\n",
              "\n",
              "    .dataframe thead th {\n",
              "        text-align: right;\n",
              "    }\n",
              "</style>\n",
              "<table border=\"1\" class=\"dataframe\">\n",
              "  <thead>\n",
              "    <tr style=\"text-align: right;\">\n",
              "      <th></th>\n",
              "      <th>mortes_doencas_cardio</th>\n",
              "    </tr>\n",
              "    <tr>\n",
              "      <th>ano</th>\n",
              "      <th></th>\n",
              "    </tr>\n",
              "  </thead>\n",
              "  <tbody>\n",
              "    <tr>\n",
              "      <th>2017</th>\n",
              "      <td>383961.0</td>\n",
              "    </tr>\n",
              "    <tr>\n",
              "      <th>2016</th>\n",
              "      <td>362091.0</td>\n",
              "    </tr>\n",
              "    <tr>\n",
              "      <th>2015</th>\n",
              "      <td>349584.0</td>\n",
              "    </tr>\n",
              "    <tr>\n",
              "      <th>2014</th>\n",
              "      <td>340284.0</td>\n",
              "    </tr>\n",
              "    <tr>\n",
              "      <th>2013</th>\n",
              "      <td>339672.0</td>\n",
              "    </tr>\n",
              "    <tr>\n",
              "      <th>2012</th>\n",
              "      <td>333295.0</td>\n",
              "    </tr>\n",
              "    <tr>\n",
              "      <th>2011</th>\n",
              "      <td>335213.0</td>\n",
              "    </tr>\n",
              "    <tr>\n",
              "      <th>2010</th>\n",
              "      <td>326371.0</td>\n",
              "    </tr>\n",
              "    <tr>\n",
              "      <th>2009</th>\n",
              "      <td>320074.0</td>\n",
              "    </tr>\n",
              "    <tr>\n",
              "      <th>2008</th>\n",
              "      <td>317797.0</td>\n",
              "    </tr>\n",
              "    <tr>\n",
              "      <th>2007</th>\n",
              "      <td>308466.0</td>\n",
              "    </tr>\n",
              "    <tr>\n",
              "      <th>2006</th>\n",
              "      <td>302817.0</td>\n",
              "    </tr>\n",
              "    <tr>\n",
              "      <th>2005</th>\n",
              "      <td>283927.0</td>\n",
              "    </tr>\n",
              "    <tr>\n",
              "      <th>2004</th>\n",
              "      <td>285543.0</td>\n",
              "    </tr>\n",
              "  </tbody>\n",
              "</table>\n",
              "</div>"
            ],
            "text/plain": [
              "      mortes_doencas_cardio\n",
              "ano                        \n",
              "2017               383961.0\n",
              "2016               362091.0\n",
              "2015               349584.0\n",
              "2014               340284.0\n",
              "2013               339672.0\n",
              "2012               333295.0\n",
              "2011               335213.0\n",
              "2010               326371.0\n",
              "2009               320074.0\n",
              "2008               317797.0\n",
              "2007               308466.0\n",
              "2006               302817.0\n",
              "2005               283927.0\n",
              "2004               285543.0"
            ]
          },
          "metadata": {
            "tags": []
          },
          "execution_count": 62
        }
      ]
    },
    {
      "cell_type": "code",
      "metadata": {
        "id": "EMsctdH1z4AG",
        "colab_type": "code",
        "colab": {}
      },
      "source": [
        "#Transformando números decimais em números inteiros \n",
        "df_brcopy['mortes_doencas_cardio'] = df_brcopy['mortes_doencas_cardio'].astype(int)"
      ],
      "execution_count": 0,
      "outputs": []
    },
    {
      "cell_type": "markdown",
      "metadata": {
        "id": "BueqZMKv-u2r",
        "colab_type": "text"
      },
      "source": [
        "Os dados estão ordenado de forma descrescente, mas vamos ordenar de forma ascendente. Para isso vamos executar passar a função para `sort_index`. Ele organiza pelo índice, ou seja, a coluna ano. "
      ]
    },
    {
      "cell_type": "code",
      "metadata": {
        "id": "GZudShVE9cGI",
        "colab_type": "code",
        "colab": {}
      },
      "source": [
        "#Ordenando pelo ando em ordem crescente \n",
        "df_brcopy.sort_index(ascending=True, inplace=True)"
      ],
      "execution_count": 0,
      "outputs": []
    },
    {
      "cell_type": "code",
      "metadata": {
        "id": "FJzYWjEY38NN",
        "colab_type": "code",
        "outputId": "d10b5ae3-02da-46f9-c7b7-043d1b0330b3",
        "colab": {
          "base_uri": "https://localhost:8080/",
          "height": 520
        }
      },
      "source": [
        "#Verificando os resultados\n",
        "df_brcopy.head(15)"
      ],
      "execution_count": 65,
      "outputs": [
        {
          "output_type": "execute_result",
          "data": {
            "text/html": [
              "<div>\n",
              "<style scoped>\n",
              "    .dataframe tbody tr th:only-of-type {\n",
              "        vertical-align: middle;\n",
              "    }\n",
              "\n",
              "    .dataframe tbody tr th {\n",
              "        vertical-align: top;\n",
              "    }\n",
              "\n",
              "    .dataframe thead th {\n",
              "        text-align: right;\n",
              "    }\n",
              "</style>\n",
              "<table border=\"1\" class=\"dataframe\">\n",
              "  <thead>\n",
              "    <tr style=\"text-align: right;\">\n",
              "      <th></th>\n",
              "      <th>mortes_doencas_cardio</th>\n",
              "    </tr>\n",
              "    <tr>\n",
              "      <th>ano</th>\n",
              "      <th></th>\n",
              "    </tr>\n",
              "  </thead>\n",
              "  <tbody>\n",
              "    <tr>\n",
              "      <th>2004</th>\n",
              "      <td>285543</td>\n",
              "    </tr>\n",
              "    <tr>\n",
              "      <th>2005</th>\n",
              "      <td>283927</td>\n",
              "    </tr>\n",
              "    <tr>\n",
              "      <th>2006</th>\n",
              "      <td>302817</td>\n",
              "    </tr>\n",
              "    <tr>\n",
              "      <th>2007</th>\n",
              "      <td>308466</td>\n",
              "    </tr>\n",
              "    <tr>\n",
              "      <th>2008</th>\n",
              "      <td>317797</td>\n",
              "    </tr>\n",
              "    <tr>\n",
              "      <th>2009</th>\n",
              "      <td>320074</td>\n",
              "    </tr>\n",
              "    <tr>\n",
              "      <th>2010</th>\n",
              "      <td>326371</td>\n",
              "    </tr>\n",
              "    <tr>\n",
              "      <th>2011</th>\n",
              "      <td>335213</td>\n",
              "    </tr>\n",
              "    <tr>\n",
              "      <th>2012</th>\n",
              "      <td>333295</td>\n",
              "    </tr>\n",
              "    <tr>\n",
              "      <th>2013</th>\n",
              "      <td>339671</td>\n",
              "    </tr>\n",
              "    <tr>\n",
              "      <th>2014</th>\n",
              "      <td>340284</td>\n",
              "    </tr>\n",
              "    <tr>\n",
              "      <th>2015</th>\n",
              "      <td>349584</td>\n",
              "    </tr>\n",
              "    <tr>\n",
              "      <th>2016</th>\n",
              "      <td>362091</td>\n",
              "    </tr>\n",
              "    <tr>\n",
              "      <th>2017</th>\n",
              "      <td>383961</td>\n",
              "    </tr>\n",
              "  </tbody>\n",
              "</table>\n",
              "</div>"
            ],
            "text/plain": [
              "      mortes_doencas_cardio\n",
              "ano                        \n",
              "2004                 285543\n",
              "2005                 283927\n",
              "2006                 302817\n",
              "2007                 308466\n",
              "2008                 317797\n",
              "2009                 320074\n",
              "2010                 326371\n",
              "2011                 335213\n",
              "2012                 333295\n",
              "2013                 339671\n",
              "2014                 340284\n",
              "2015                 349584\n",
              "2016                 362091\n",
              "2017                 383961"
            ]
          },
          "metadata": {
            "tags": []
          },
          "execution_count": 65
        }
      ]
    },
    {
      "cell_type": "code",
      "metadata": {
        "id": "eY4ZslTxDtcE",
        "colab_type": "code",
        "colab": {
          "base_uri": "https://localhost:8080/",
          "height": 350
        },
        "outputId": "906a46f1-c215-49cf-df18-ef0b7db72e31"
      },
      "source": [
        "fig, ax = plt.subplots(figsize=(10,5))\n",
        "\n",
        "ax = sns.lineplot(x=df_br.index, y=\"mortes_doencas_cardio\", data=df_br)\n",
        "ax.set_title('Morte por doenças cardíacas')\n",
        "ax.set_ylabel('Mortes (mil)')\n",
        "ax.set_xlabel('Ano');"
      ],
      "execution_count": 101,
      "outputs": [
        {
          "output_type": "display_data",
          "data": {
            "image/png": "[encoded data removed]",
            "text/plain": [
              "<Figure size 720x360 with 1 Axes>"
            ]
          },
          "metadata": {
            "tags": []
          }
        }
      ]
    },
    {
      "cell_type": "markdown",
      "metadata": {
        "id": "DjEsc5dDeOfK",
        "colab_type": "text"
      },
      "source": [
        "###Resultado\n",
        "Analisando os dados sobre o número de mortes causados por doenças cardiovasculares. Observa-se um nítido aumento no número de óbitos. Esse aumento pode ter relação tanto com o crescimento populacional, quanto com uma maior ocorrência das doenças cardiovasculares. O que ressalta a importância da análise de dados como ferramenta no processo de tomada de decisão."
      ]
    },
    {
      "cell_type": "markdown",
      "metadata": {
        "id": "GSQGu_vPaEe8",
        "colab_type": "text"
      },
      "source": [
        "# **Análise dos dados do teste Clínico**\n",
        "##Tabela estatística\n",
        "Para começar a entender os dados é importante construir a tabela estatística. A função `describe()` retorna os dadaos estatísticos que serão importantes durante a análise. \n",
        "\n",
        "Vale a pena ressaltar que a função `describe()` retorna a estatística de **todas** as variáveis numéricas. Como visto acima, o df_uci possui todas as variáveis classificadas como numéricas (`int` e `float`). Entretanto, alguns valores foram atribuídos para classificação. Por exemplo, coluna `sex`, que tem **0** para feminino e **1** para masculino. A análise estatística como determinação da média, mediana e desvio padrão desse tipo de variável não traz informações tão relevantes.\n",
        "\n",
        "Assim, para analisar apenas as colunas com dados não classificatórios serão selecionados apenas as variáveis de interesse.\n",
        "\n"
      ]
    },
    {
      "cell_type": "markdown",
      "metadata": {
        "id": "ehBv_UQSq9Tu",
        "colab_type": "text"
      },
      "source": [
        "##Análise\n",
        "Primeiramente será analisado a idade dos pacientes. Para isso vamos criar a tabela estatística para analisar as características dessa variável. Em seguida será construído um histograma para entender a distribuição dos dados."
      ]
    },
    {
      "cell_type": "code",
      "metadata": {
        "id": "qZTU730U1Gm2",
        "colab_type": "code",
        "outputId": "aeafc572-75dd-4543-e1aa-e789b224be93",
        "colab": {
          "base_uri": "https://localhost:8080/",
          "height": 300
        }
      },
      "source": [
        "#Construção da tabela estatística da variável idade.\n",
        "df_uci[['age']].describe()"
      ],
      "execution_count": 66,
      "outputs": [
        {
          "output_type": "execute_result",
          "data": {
            "text/html": [
              "<div>\n",
              "<style scoped>\n",
              "    .dataframe tbody tr th:only-of-type {\n",
              "        vertical-align: middle;\n",
              "    }\n",
              "\n",
              "    .dataframe tbody tr th {\n",
              "        vertical-align: top;\n",
              "    }\n",
              "\n",
              "    .dataframe thead th {\n",
              "        text-align: right;\n",
              "    }\n",
              "</style>\n",
              "<table border=\"1\" class=\"dataframe\">\n",
              "  <thead>\n",
              "    <tr style=\"text-align: right;\">\n",
              "      <th></th>\n",
              "      <th>age</th>\n",
              "    </tr>\n",
              "  </thead>\n",
              "  <tbody>\n",
              "    <tr>\n",
              "      <th>count</th>\n",
              "      <td>303.000000</td>\n",
              "    </tr>\n",
              "    <tr>\n",
              "      <th>mean</th>\n",
              "      <td>54.438944</td>\n",
              "    </tr>\n",
              "    <tr>\n",
              "      <th>std</th>\n",
              "      <td>9.038662</td>\n",
              "    </tr>\n",
              "    <tr>\n",
              "      <th>min</th>\n",
              "      <td>29.000000</td>\n",
              "    </tr>\n",
              "    <tr>\n",
              "      <th>25%</th>\n",
              "      <td>48.000000</td>\n",
              "    </tr>\n",
              "    <tr>\n",
              "      <th>50%</th>\n",
              "      <td>56.000000</td>\n",
              "    </tr>\n",
              "    <tr>\n",
              "      <th>75%</th>\n",
              "      <td>61.000000</td>\n",
              "    </tr>\n",
              "    <tr>\n",
              "      <th>max</th>\n",
              "      <td>77.000000</td>\n",
              "    </tr>\n",
              "  </tbody>\n",
              "</table>\n",
              "</div>"
            ],
            "text/plain": [
              "              age\n",
              "count  303.000000\n",
              "mean    54.438944\n",
              "std      9.038662\n",
              "min     29.000000\n",
              "25%     48.000000\n",
              "50%     56.000000\n",
              "75%     61.000000\n",
              "max     77.000000"
            ]
          },
          "metadata": {
            "tags": []
          },
          "execution_count": 66
        }
      ]
    },
    {
      "cell_type": "markdown",
      "metadata": {
        "id": "eYMiJwtOBuO1",
        "colab_type": "text"
      },
      "source": [
        "##Histograma \n",
        "O histograma é uma análise que retorna a distribuição e a frequência dos dados."
      ]
    },
    {
      "cell_type": "code",
      "metadata": {
        "id": "JhvG43nlojku",
        "colab_type": "code",
        "outputId": "76e311b1-3663-4103-c0f6-332f2b46dcb5",
        "colab": {
          "base_uri": "https://localhost:8080/",
          "height": 369
        }
      },
      "source": [
        "#Construção do histograma da variável idade\n",
        "fig, axs = plt.subplots(1, 1, sharey=False, tight_layout=True, figsize=(6,5))\n",
        "bin_edges = np.histogram(df_uci)\n",
        "fig.subplots_adjust(hspace=2, wspace=0.5)\n",
        "var = df_uci['age']\n",
        "axs.hist(var, bins=17, color='#147807') #axs[0,0] o será inseri na primeira linha, e o segundo número indica a que será o primeiro gráfico. \n",
        "axs.set_title('Idade', size=15)\n",
        "axs.set_ylabel('Frequência', size=15)\n",
        "axs.tick_params(length=10, labelsize=14)"
      ],
      "execution_count": 67,
      "outputs": [
        {
          "output_type": "display_data",
          "data": {
            "image/png": "[encoded data removed]",
            "text/plain": [
              "<Figure size 432x360 with 1 Axes>"
            ]
          },
          "metadata": {
            "tags": []
          }
        }
      ]
    },
    {
      "cell_type": "markdown",
      "metadata": {
        "id": "8ma8HhT1PLCw",
        "colab_type": "text"
      },
      "source": [
        "##Resultado\n",
        "Conforme observado na tabela estatística, a média de idade dos pacientes é de 54 anos. Além disso é possível identificar que o paciente mais jovem possui 29 anos e o de maior idade com 77 anos. O histograma mostra qual a distribuição das idades e qual o intervalo com maior frequência. A maioria dos pacientes possuem entre 40 e 70 anos de idade. Entretanto, o intervalo com maior frequência compreende dos 50 aos 60 anos.  "
      ]
    },
    {
      "cell_type": "markdown",
      "metadata": {
        "id": "q-zxdIUETBlG",
        "colab_type": "text"
      },
      "source": [
        "###Próximo passo será analisar as variáveis colesterol total (`chol`), pressão arterial sistólica em repouso (`trestbps`) e frequência cardíaca máxima alcançada (`thalach`). \n",
        "Sabendo da faixa etária dos paciente, vamos entender um pouco mais sobre alguns parâmetros fisiológicos.\n",
        "\n",
        "Vamos analisar a distribuição e frequência dos dados dentro do intervalo de cada variável. E a variação destes dados e possível presença de outliers (ou valores discrepantes). \n",
        "\n",
        "Para isso serão realizadas as seguintes análies. \n",
        "* Histograma para analisar a distribuição e frequência dos dados\n",
        "* Boxplot para verificar a variação dos dados e presença de outliers"
      ]
    },
    {
      "cell_type": "code",
      "metadata": {
        "colab_type": "code",
        "outputId": "2c387fd6-0d69-427d-a4ba-d9da7844199f",
        "id": "JORmRTZysJgw",
        "colab": {
          "base_uri": "https://localhost:8080/",
          "height": 513
        }
      },
      "source": [
        "fig, axs = plt.subplots(2, 3, sharey=False, tight_layout=True, figsize=(15,7))\n",
        "bin_edges = np.histogram(df_uci)\n",
        "fig.subplots_adjust(hspace=2, wspace=0.5)\n",
        "\n",
        "\n",
        "var1 = df_uci['chol'] #Variável colesterol\n",
        "var2 = df_uci['trestbps'] #Pressão sanguínea em repouso\n",
        "var3 = df_uci['thalach'] #Variável Máxima frequência cardíaca alcançada\n",
        "\n",
        "#axs[0,0] O primeiro número indica a linha a qual este gráfico será localizado.\n",
        "#O segundo número inidica a posição que este gráfico irá ocupado na linha.\n",
        "#Lembrando que 0 sempre representa a primeira posição. \n",
        "\n",
        "axs[0,0].hist(var1, bins=16, color='#C27C03') #axs[0,0] o será inseri na primeira linha, e o segundo número indica a que será o primeiro gráfico. \n",
        "axs[0,0].set_title('Colesterol total', size=15)\n",
        "axs[0,0].set_ylabel('Frequência', size=15)\n",
        "axs[0,0].tick_params(length=10, labelsize=14)\n",
        "\n",
        "axs[0,1].hist(var2, bins=15, color='#FD3706') #axs[0,1] significa que está na primeira linha (primeiro 0) e será o segundo gráfico (número 1)\n",
        "axs[0,1].set_title('Pressão arterial sistólica em repouso', size=14)\n",
        "axs[0,1].set_ylabel('Frequência', size=15)\n",
        "axs[0,1].tick_params(length=10, labelsize=14)\n",
        "\n",
        "axs[0,2].hist(var3, bins=16, color='#D10909') #axs[0,2] significa que está na primeira linha (primeiro 0) e será o terceiro gráfico (número 2)\n",
        "axs[0,2].set_title('Máxima frequência cardícaca alcançada', size=14.5)\n",
        "axs[0,2].set_ylabel('Frequência', size=15)\n",
        "axs[0,2].tick_params(length=10, labelsize=14)\n",
        "\n",
        "axs[1,0].boxplot(var1, vert=False) #axs[1,1] significa que está na segunda linha (número 1) e será o primeiro gráfico (número 0)\n",
        "axs[1,0].set_xlabel('Distribuição', size=15)\n",
        "axs[1,0].tick_params(length=10, labelsize=14)\n",
        "\n",
        "\n",
        "axs[1,1].boxplot(var2, vert=False) #axs[1,1] significa que está na segunda linha (número 1) e será o segundo gráfico (número 1)\n",
        "axs[1,1].set_xlabel('Distribuição', size=15)\n",
        "axs[1,1].tick_params(length=10, labelsize=14)\n",
        "\n",
        "axs[1,2].boxplot(var3, vert=False) #axs[1,2] significa que está na segunda linha (número 1) e será o terceiro gráfico (número 2)\n",
        "axs[1,2].set_xlabel('Distribuição', size=15)\n",
        "axs[1,2].tick_params(length=10, labelsize=14)\n",
        "\n",
        "plt.show();\n"
      ],
      "execution_count": 68,
      "outputs": [
        {
          "output_type": "display_data",
          "data": {
            "image/png": "[encoded data removed]",
            "text/plain": [
              "<Figure size 1080x504 with 6 Axes>"
            ]
          },
          "metadata": {
            "tags": []
          }
        }
      ]
    },
    {
      "cell_type": "markdown",
      "metadata": {
        "id": "LqgNtrsa38EA",
        "colab_type": "text"
      },
      "source": [
        "###Resultado\n",
        "Os gráficos estão organizados aos pares. Assim,  cada variável possui dois gráficos. O gráfico superior representa é o histograma e o inferior o boxplot. \n",
        "\n",
        "Começando pelo colesterol total, observa-se que uma pequena parcela apresenta o nível de colesterol abaixo de 200. Grande parte dos pacientes apresentam níveis de colesterol entre 200 e 300. Entretano, existem pacintes apontados como outliers com valores acima de 300. \n",
        "\n",
        "Seguindo a característica dos dados referentes ao colesterol, a pressão arterial sistólica em repouso também apresenta uma grande variação dos dos valores. Uma parcela considerável apresenta uma pressão sanguínea acima de 120. E alguns casos os valores ficaram acima de 160.\n",
        "\n",
        "A máxima frequência cardíaca após realização de execício, também apresentou uma grande variação. Grande parte dos pacientes se concentraram entre o intervalo de 125 e 175 batimentos por minuto. \n",
        "\n",
        "Note o boxplot apoutou presença de outliers nas três variáveis analisadas. Uma prática comum é a retirada dos outliers. Entretanto, eles serão mantidos para análises seguintes. Isso porquê este é um teste clínico onde um conjunto de variáveis foram analisadas no mesmo paciente. Assim, pode existir uma relação entre esses dados discrepantes nos resultados dos exames."
      ]
    },
    {
      "cell_type": "markdown",
      "metadata": {
        "id": "z0T_XMoPlYDu",
        "colab_type": "text"
      },
      "source": [
        "##Exploração dos dados.\n",
        "Como observamos acima, os examos dos pacientes que participaram do ensio clínnico apresentavam uma grande variação. Para uma melhor compreensão vamos agrupar os dados dentro de categorias.\n",
        "\n",
        "Esse passo será executado para os dados referentes ao colesterol total e à pressão arterial sistólica. Esses dados estão com valores absolutos obtidos nos exames. Isso dificulta a comparação entre os pacientes. Por isso os dados serão distribuídos em categorias que compreendem um determinado intervalo. Os dados serão categorizados de acordo com a Diretriz de Prevenção Cardiovascular da Sociedade Brasileira de Cardiologia - 2019. "
      ]
    },
    {
      "cell_type": "markdown",
      "metadata": {
        "id": "tcKGUL-IKasz",
        "colab_type": "text"
      },
      "source": [
        "###Categorização dos dados referentes ao colesterol total\n",
        "Os dados serão agrupados de acordo com o Quadro 1.7 da Diretriz de Prevenção Cardiovascular da Sociedade Brasileira de Cardiologia - 2019. **Este agrupamento não tem relação com a pontuação atribuída no quadro. Os valores são apenas classificatórios.**\n",
        "\n",
        "Assim os dados serão dividos em 5 categorias da seguinte forma:\n",
        "\n",
        "* Menor que 160 = 0\n",
        "* De 160 a  199 = 1\n",
        "* De 200 a 239 = 2\n",
        "* De 240 a 279 = 3\n",
        "* Acima de 279 = 4\n"
      ]
    },
    {
      "cell_type": "code",
      "metadata": {
        "id": "Oii_2vT5Tzd5",
        "colab_type": "code",
        "colab": {}
      },
      "source": [
        "#Cria uma cópia do dataframe original. Medida de segurança para preservação dos dados originais.\n",
        "df_categ = df_uci.copy()"
      ],
      "execution_count": 0,
      "outputs": []
    },
    {
      "cell_type": "code",
      "metadata": {
        "id": "GP6Cqya_igDj",
        "colab_type": "code",
        "colab": {}
      },
      "source": [
        "#Cria as categorias e distribui os valores referentes à coluna com dados de colesterol \n",
        "#dentro de uma das 5 categorias.\n",
        "coluna = df_categ['chol']\n",
        "transf  = []\n",
        "for i in coluna:\n",
        "    if i <= 160:\n",
        "      i = 0\n",
        "      transf.append(i)\n",
        "    elif i <= 199:\n",
        "      i = 1\n",
        "      transf.append(i)\n",
        "    elif i <= 239:\n",
        "      i = 2\n",
        "      transf.append(i)\n",
        "    elif i <= 279:\n",
        "      i = 3\n",
        "      transf.append(i)\n",
        "    elif i > 279:\n",
        "      i = 4\n",
        "      transf.append(i)"
      ],
      "execution_count": 0,
      "outputs": []
    },
    {
      "cell_type": "code",
      "metadata": {
        "id": "N-EDtYI2M9Oy",
        "colab_type": "code",
        "colab": {}
      },
      "source": [
        "#Inclui a nova coluna com os dados de colestrol categorizados no dataframe com o nome chol_categ \n",
        "df_categ['chol_categ'] = transf"
      ],
      "execution_count": 0,
      "outputs": []
    },
    {
      "cell_type": "markdown",
      "metadata": {
        "id": "Maaw-P0pBQJg",
        "colab_type": "text"
      },
      "source": [
        "##Categorização dos dados referentes à pressão arterial sistólica.\n",
        "Seguindo a mesma lógico dos dados referentes ao coleterol total. Vamos distribuir os valores da pressão arterial sistólica em categorias. Os valores serão agrupados seguindo o Quadro 1.7 da Diretriz de Prevenção Cardiovascular da Sociedade Brasileira de Cardiologia - 2019. **Este agrupamento não tem relação com a pontuação atribuída no quadro. Os números são apenas classificatórios.**\n",
        "\n",
        "Os dados foram distribuídos dentro de 5 categorias da seguinte forma:\n",
        "\n",
        "* Menor ou igual 120 = 0\n",
        "* De 121 a  129 = 1\n",
        "* De 130 a 139 = 2\n",
        "* De 140 a 159 = 3\n",
        "* Acima de 160 = 4\n",
        "\n",
        "\n"
      ]
    },
    {
      "cell_type": "code",
      "metadata": {
        "id": "b0Z4iKsjNNL1",
        "colab_type": "code",
        "colab": {}
      },
      "source": [
        "#Transforma os valores referentes à coluna com dados de pressão arterial sistólica \n",
        "coluna_2 = df_categ['trestbps']\n",
        "transf_2  = []\n",
        "for i in coluna_2:\n",
        "    if i <= 120:\n",
        "      i = 0\n",
        "      transf_2.append(i)\n",
        "    elif i <= 129:\n",
        "      i = 1\n",
        "      transf_2.append(i)\n",
        "    elif i <= 139:\n",
        "      i = 2\n",
        "      transf_2.append(i)\n",
        "    elif i <= 159:\n",
        "      i = 3\n",
        "      transf_2.append(i)\n",
        "    elif i > 159:\n",
        "      i = 4\n",
        "      transf_2.append(i)"
      ],
      "execution_count": 0,
      "outputs": []
    },
    {
      "cell_type": "code",
      "metadata": {
        "id": "gY0bkFvXNblw",
        "colab_type": "code",
        "colab": {}
      },
      "source": [
        "#Inclui a coluna com dados categorizados no dataframe com o nome trestbps_categ\n",
        "df_categ['trestbps_categ'] = transf_2"
      ],
      "execution_count": 0,
      "outputs": []
    },
    {
      "cell_type": "code",
      "metadata": {
        "id": "V5neGP7_OIzR",
        "colab_type": "code",
        "outputId": "bbb0fcc9-c89f-439c-a775-065b202b682e",
        "colab": {
          "base_uri": "https://localhost:8080/",
          "height": 206
        }
      },
      "source": [
        "#Checar se a coluna foi inserida corretamente\n",
        "df_categ.head()"
      ],
      "execution_count": 74,
      "outputs": [
        {
          "output_type": "execute_result",
          "data": {
            "text/html": [
              "<div>\n",
              "<style scoped>\n",
              "    .dataframe tbody tr th:only-of-type {\n",
              "        vertical-align: middle;\n",
              "    }\n",
              "\n",
              "    .dataframe tbody tr th {\n",
              "        vertical-align: top;\n",
              "    }\n",
              "\n",
              "    .dataframe thead th {\n",
              "        text-align: right;\n",
              "    }\n",
              "</style>\n",
              "<table border=\"1\" class=\"dataframe\">\n",
              "  <thead>\n",
              "    <tr style=\"text-align: right;\">\n",
              "      <th></th>\n",
              "      <th>age</th>\n",
              "      <th>sex</th>\n",
              "      <th>cp</th>\n",
              "      <th>trestbps</th>\n",
              "      <th>chol</th>\n",
              "      <th>fbs</th>\n",
              "      <th>restecg</th>\n",
              "      <th>thalach</th>\n",
              "      <th>exang</th>\n",
              "      <th>oldpeak</th>\n",
              "      <th>slope</th>\n",
              "      <th>ca</th>\n",
              "      <th>thal</th>\n",
              "      <th>num</th>\n",
              "      <th>chol_categ</th>\n",
              "      <th>trestbps_categ</th>\n",
              "    </tr>\n",
              "  </thead>\n",
              "  <tbody>\n",
              "    <tr>\n",
              "      <th>0</th>\n",
              "      <td>63.0</td>\n",
              "      <td>1.0</td>\n",
              "      <td>1.0</td>\n",
              "      <td>145.0</td>\n",
              "      <td>233.0</td>\n",
              "      <td>1.0</td>\n",
              "      <td>2.0</td>\n",
              "      <td>150.0</td>\n",
              "      <td>0.0</td>\n",
              "      <td>2.3</td>\n",
              "      <td>3.0</td>\n",
              "      <td>0.0</td>\n",
              "      <td>6.0</td>\n",
              "      <td>0</td>\n",
              "      <td>2</td>\n",
              "      <td>3</td>\n",
              "    </tr>\n",
              "    <tr>\n",
              "      <th>1</th>\n",
              "      <td>67.0</td>\n",
              "      <td>1.0</td>\n",
              "      <td>4.0</td>\n",
              "      <td>160.0</td>\n",
              "      <td>286.0</td>\n",
              "      <td>0.0</td>\n",
              "      <td>2.0</td>\n",
              "      <td>108.0</td>\n",
              "      <td>1.0</td>\n",
              "      <td>1.5</td>\n",
              "      <td>2.0</td>\n",
              "      <td>3.0</td>\n",
              "      <td>3.0</td>\n",
              "      <td>1</td>\n",
              "      <td>4</td>\n",
              "      <td>4</td>\n",
              "    </tr>\n",
              "    <tr>\n",
              "      <th>2</th>\n",
              "      <td>67.0</td>\n",
              "      <td>1.0</td>\n",
              "      <td>4.0</td>\n",
              "      <td>120.0</td>\n",
              "      <td>229.0</td>\n",
              "      <td>0.0</td>\n",
              "      <td>2.0</td>\n",
              "      <td>129.0</td>\n",
              "      <td>1.0</td>\n",
              "      <td>2.6</td>\n",
              "      <td>2.0</td>\n",
              "      <td>2.0</td>\n",
              "      <td>7.0</td>\n",
              "      <td>1</td>\n",
              "      <td>2</td>\n",
              "      <td>0</td>\n",
              "    </tr>\n",
              "    <tr>\n",
              "      <th>3</th>\n",
              "      <td>37.0</td>\n",
              "      <td>1.0</td>\n",
              "      <td>3.0</td>\n",
              "      <td>130.0</td>\n",
              "      <td>250.0</td>\n",
              "      <td>0.0</td>\n",
              "      <td>0.0</td>\n",
              "      <td>187.0</td>\n",
              "      <td>0.0</td>\n",
              "      <td>3.5</td>\n",
              "      <td>3.0</td>\n",
              "      <td>0.0</td>\n",
              "      <td>3.0</td>\n",
              "      <td>0</td>\n",
              "      <td>3</td>\n",
              "      <td>2</td>\n",
              "    </tr>\n",
              "    <tr>\n",
              "      <th>4</th>\n",
              "      <td>41.0</td>\n",
              "      <td>0.0</td>\n",
              "      <td>2.0</td>\n",
              "      <td>130.0</td>\n",
              "      <td>204.0</td>\n",
              "      <td>0.0</td>\n",
              "      <td>2.0</td>\n",
              "      <td>172.0</td>\n",
              "      <td>0.0</td>\n",
              "      <td>1.4</td>\n",
              "      <td>1.0</td>\n",
              "      <td>0.0</td>\n",
              "      <td>3.0</td>\n",
              "      <td>0</td>\n",
              "      <td>2</td>\n",
              "      <td>2</td>\n",
              "    </tr>\n",
              "  </tbody>\n",
              "</table>\n",
              "</div>"
            ],
            "text/plain": [
              "    age  sex   cp  trestbps   chol  ...   ca  thal  num  chol_categ  trestbps_categ\n",
              "0  63.0  1.0  1.0     145.0  233.0  ...  0.0   6.0    0           2               3\n",
              "1  67.0  1.0  4.0     160.0  286.0  ...  3.0   3.0    1           4               4\n",
              "2  67.0  1.0  4.0     120.0  229.0  ...  2.0   7.0    1           2               0\n",
              "3  37.0  1.0  3.0     130.0  250.0  ...  0.0   3.0    0           3               2\n",
              "4  41.0  0.0  2.0     130.0  204.0  ...  0.0   3.0    0           2               2\n",
              "\n",
              "[5 rows x 16 columns]"
            ]
          },
          "metadata": {
            "tags": []
          },
          "execution_count": 74
        }
      ]
    },
    {
      "cell_type": "markdown",
      "metadata": {
        "id": "S2LlydSwMPNm",
        "colab_type": "text"
      },
      "source": [
        "Note que algumas colunas apresentam números decimais, quando na verdade são números inteiros. Para converter os números com casas decimais `float` em números inteiros `int`, será utilizado o método `astype()`."
      ]
    },
    {
      "cell_type": "code",
      "metadata": {
        "id": "vDSaKYL725iX",
        "colab_type": "code",
        "colab": {}
      },
      "source": [
        "df_categ['age'] = df_categ['age'].astype(int)\n",
        "df_categ['sex'] = df_categ['sex'].astype(int)\n",
        "df_categ['cp'] = df_categ['cp'].astype(int)\n",
        "df_categ['trestbps'] = df_categ['trestbps'].astype(int)\n",
        "df_categ['chol'] = df_categ['chol'].astype(int)\n",
        "df_categ['fbs'] = df_categ['fbs'].astype(int)\n",
        "df_categ['restecg'] = df_categ['restecg'].astype(int)\n",
        "df_categ['thalach'] = df_categ['thalach'].astype(int)\n",
        "df_categ['exang'] = df_categ['exang'].astype(int)\n",
        "df_categ['slope'] = df_categ['slope'].astype(int)\n",
        "df_categ['ca'] = df_categ['ca'].astype(int)\n",
        "df_categ['thal'] = df_categ['thal'].astype(int)"
      ],
      "execution_count": 0,
      "outputs": []
    },
    {
      "cell_type": "code",
      "metadata": {
        "id": "DazWTXS93ebS",
        "colab_type": "code",
        "outputId": "42f71707-286e-436c-da40-28d1af2d54bd",
        "colab": {
          "base_uri": "https://localhost:8080/",
          "height": 206
        }
      },
      "source": [
        "#Conferir se a alteração ocorreu em todas as colunas especificadas acima.\n",
        "df_categ.head()"
      ],
      "execution_count": 76,
      "outputs": [
        {
          "output_type": "execute_result",
          "data": {
            "text/html": [
              "<div>\n",
              "<style scoped>\n",
              "    .dataframe tbody tr th:only-of-type {\n",
              "        vertical-align: middle;\n",
              "    }\n",
              "\n",
              "    .dataframe tbody tr th {\n",
              "        vertical-align: top;\n",
              "    }\n",
              "\n",
              "    .dataframe thead th {\n",
              "        text-align: right;\n",
              "    }\n",
              "</style>\n",
              "<table border=\"1\" class=\"dataframe\">\n",
              "  <thead>\n",
              "    <tr style=\"text-align: right;\">\n",
              "      <th></th>\n",
              "      <th>age</th>\n",
              "      <th>sex</th>\n",
              "      <th>cp</th>\n",
              "      <th>trestbps</th>\n",
              "      <th>chol</th>\n",
              "      <th>fbs</th>\n",
              "      <th>restecg</th>\n",
              "      <th>thalach</th>\n",
              "      <th>exang</th>\n",
              "      <th>oldpeak</th>\n",
              "      <th>slope</th>\n",
              "      <th>ca</th>\n",
              "      <th>thal</th>\n",
              "      <th>num</th>\n",
              "      <th>chol_categ</th>\n",
              "      <th>trestbps_categ</th>\n",
              "    </tr>\n",
              "  </thead>\n",
              "  <tbody>\n",
              "    <tr>\n",
              "      <th>0</th>\n",
              "      <td>63</td>\n",
              "      <td>1</td>\n",
              "      <td>1</td>\n",
              "      <td>145</td>\n",
              "      <td>233</td>\n",
              "      <td>1</td>\n",
              "      <td>2</td>\n",
              "      <td>150</td>\n",
              "      <td>0</td>\n",
              "      <td>2.3</td>\n",
              "      <td>3</td>\n",
              "      <td>0</td>\n",
              "      <td>6</td>\n",
              "      <td>0</td>\n",
              "      <td>2</td>\n",
              "      <td>3</td>\n",
              "    </tr>\n",
              "    <tr>\n",
              "      <th>1</th>\n",
              "      <td>67</td>\n",
              "      <td>1</td>\n",
              "      <td>4</td>\n",
              "      <td>160</td>\n",
              "      <td>286</td>\n",
              "      <td>0</td>\n",
              "      <td>2</td>\n",
              "      <td>108</td>\n",
              "      <td>1</td>\n",
              "      <td>1.5</td>\n",
              "      <td>2</td>\n",
              "      <td>3</td>\n",
              "      <td>3</td>\n",
              "      <td>1</td>\n",
              "      <td>4</td>\n",
              "      <td>4</td>\n",
              "    </tr>\n",
              "    <tr>\n",
              "      <th>2</th>\n",
              "      <td>67</td>\n",
              "      <td>1</td>\n",
              "      <td>4</td>\n",
              "      <td>120</td>\n",
              "      <td>229</td>\n",
              "      <td>0</td>\n",
              "      <td>2</td>\n",
              "      <td>129</td>\n",
              "      <td>1</td>\n",
              "      <td>2.6</td>\n",
              "      <td>2</td>\n",
              "      <td>2</td>\n",
              "      <td>7</td>\n",
              "      <td>1</td>\n",
              "      <td>2</td>\n",
              "      <td>0</td>\n",
              "    </tr>\n",
              "    <tr>\n",
              "      <th>3</th>\n",
              "      <td>37</td>\n",
              "      <td>1</td>\n",
              "      <td>3</td>\n",
              "      <td>130</td>\n",
              "      <td>250</td>\n",
              "      <td>0</td>\n",
              "      <td>0</td>\n",
              "      <td>187</td>\n",
              "      <td>0</td>\n",
              "      <td>3.5</td>\n",
              "      <td>3</td>\n",
              "      <td>0</td>\n",
              "      <td>3</td>\n",
              "      <td>0</td>\n",
              "      <td>3</td>\n",
              "      <td>2</td>\n",
              "    </tr>\n",
              "    <tr>\n",
              "      <th>4</th>\n",
              "      <td>41</td>\n",
              "      <td>0</td>\n",
              "      <td>2</td>\n",
              "      <td>130</td>\n",
              "      <td>204</td>\n",
              "      <td>0</td>\n",
              "      <td>2</td>\n",
              "      <td>172</td>\n",
              "      <td>0</td>\n",
              "      <td>1.4</td>\n",
              "      <td>1</td>\n",
              "      <td>0</td>\n",
              "      <td>3</td>\n",
              "      <td>0</td>\n",
              "      <td>2</td>\n",
              "      <td>2</td>\n",
              "    </tr>\n",
              "  </tbody>\n",
              "</table>\n",
              "</div>"
            ],
            "text/plain": [
              "   age  sex  cp  trestbps  chol  ...  ca  thal  num  chol_categ  trestbps_categ\n",
              "0   63    1   1       145   233  ...   0     6    0           2               3\n",
              "1   67    1   4       160   286  ...   3     3    1           4               4\n",
              "2   67    1   4       120   229  ...   2     7    1           2               0\n",
              "3   37    1   3       130   250  ...   0     3    0           3               2\n",
              "4   41    0   2       130   204  ...   0     3    0           2               2\n",
              "\n",
              "[5 rows x 16 columns]"
            ]
          },
          "metadata": {
            "tags": []
          },
          "execution_count": 76
        }
      ]
    },
    {
      "cell_type": "code",
      "metadata": {
        "id": "yjbIxFrZTP7o",
        "colab_type": "code",
        "colab": {}
      },
      "source": [
        "#Produz uma cópia do dataframe. Este é um procedimento de sugrança.\n",
        "selected_df = df_categ.copy()"
      ],
      "execution_count": 0,
      "outputs": []
    },
    {
      "cell_type": "markdown",
      "metadata": {
        "id": "FqnSVvETu6aA",
        "colab_type": "text"
      },
      "source": [
        "##Agrupamento dos dados. \n",
        "Após categorizados, os dados serão agrupado de acordo com os resultados dos exames. Esse agrupamento será feito de forma condicional, ou seja, pacientes só serão inseridos no mesmo grupo se apresentarem resultados iguais. Para isso será utilizada a função `groupby`.\n",
        "Serão utilizadas as seguintes colunas:\n",
        "* trestbps_categ = pressão arterial sitólica em repouso (categorizada)\n",
        "* chol_categ = colesterol total categorizado\n",
        "* fbs = glicemia (se abaixo de 120 = 0, se acima de 120 = 1)\n",
        "* num = num - diagnóstico de doença cardíaca (diagnóstico angiográfico)\n",
        " 0 = não há doença cardíaca ( < 50% de estreitamento do diâmetro)\n",
        " 1 = há doença cardíaca ( > 50% de estreitamento do diâmetro)\n",
        "\n",
        "Os pacientes serão agrupados primeiramente pela pressão aterial sistólica em repouso. A partir desse agrupamento, serão realizados subagrupamentos com os dados de colestrol, em seguida glicemia e por último serão os pacientes com e sem doenças cardíacas.\n",
        "\n",
        "Após o agrupamento será feita a contagem de quantos pacientes se encaixam dentro de cada condição. Esses valores estão representados na coluna **'contagem'**. \n",
        "\n",
        "Além disso, será calculada a porcentagem das ocorrências dentro de todo o conjunto de dados. \n",
        "\n"
      ]
    },
    {
      "cell_type": "code",
      "metadata": {
        "id": "cGLYCPbL23BF",
        "colab_type": "code",
        "colab": {}
      },
      "source": [
        "#Agrupamento dos dados\n",
        "grouped_df = pd.DataFrame(selected_df.groupby(['trestbps_categ', 'chol_categ', 'fbs', 'num'], as_index=False).size())\n",
        "grouped_df.columns = ['contagem']"
      ],
      "execution_count": 0,
      "outputs": []
    },
    {
      "cell_type": "code",
      "metadata": {
        "id": "JZVbLOIR-LwG",
        "colab_type": "code",
        "colab": {}
      },
      "source": [
        "grouped_df.reset_index(inplace=True);"
      ],
      "execution_count": 0,
      "outputs": []
    },
    {
      "cell_type": "code",
      "metadata": {
        "id": "PwacgsaQ6UWi",
        "colab_type": "code",
        "colab": {}
      },
      "source": [
        "#Cálculo de porcentagem\n",
        "grouped_df['porcentagem'] = (grouped_df['contagem'] / grouped_df['contagem'].sum() * 100)"
      ],
      "execution_count": 0,
      "outputs": []
    },
    {
      "cell_type": "markdown",
      "metadata": {
        "id": "gPcCV1Py1znQ",
        "colab_type": "text"
      },
      "source": [
        "Após o agrupamento e o cálculo de porcentagem temos a seguinte configuração da tabela.  \n",
        "* Primeira coluna = Pressão arterial sistólica (cateogia de 0 a 4). Onde valores: \n",
        "  * Menor ou igual 120 = 0\n",
        "  * De 121 a  129 = 1\n",
        "  * De 130 a 139 = 2\n",
        "  * De 140 a 159 = 3\n",
        "  * Acima de 160 = 4\n",
        "\n",
        "* Segunda coluna = Colesterol total (categoria de 0 a 4). Onde valores:\n",
        "  * Menor que 160 = 0\n",
        "  * De 160 a  199 = 1\n",
        "  * De 200 a 239 = 2\n",
        "  * De 240 a 279 = 3\n",
        "  * Acima de 279 = 4\n",
        "\n",
        "* Terceira coluna = Glicemia abaixo ou acima de 120 (0 ou 1). Onde valores:\n",
        "  * Abaixo de 120 = 0\n",
        "  * Acima de 120 = 1\n",
        "* Quarta coluna = Presença ausência de doença cardíaca (0 ou 1).\n",
        "  * Não há diagnóstico doença cardíaca = 0\n",
        "  *Diagnóstico positivo para doença cardíaca = 1"
      ]
    },
    {
      "cell_type": "markdown",
      "metadata": {
        "id": "WKpUOoasO0E7",
        "colab_type": "text"
      },
      "source": [
        "##Interpretando a tabela \n",
        "Assim, ao lermos os a sequência numérica `(0, 0, 0, 0)` interpretamos da seguinte forma: \n",
        "<p> Os pacientes deste grupo apresentam pressão arterial sistólica abaixo de 120 (primeiro número = 0), colesterol total abaixo de 160 (segundo número = 0), glicemia abaixo de 120 (terceiro número = 0) e não há presença de doença cardíaca (quarto número = 0). </p>\n",
        "\n",
        "Enquanto que pacientes do grupo `(0, 0, 0, 1)` apresentam pressão arterial sistólica abaixo de 120 (primeiro = 0), colesterol total abaixo de 160 (segundo = 0), glicemia abaixo de 120 (terceiro = 0) e **presença** de doença cardíaca coronariana (quarto número = 1). \n",
        "<p> E assim sucessivamente. <p/>"
      ]
    },
    {
      "cell_type": "code",
      "metadata": {
        "id": "vllcRPwC9gTW",
        "colab_type": "code",
        "outputId": "27b68fb3-314a-4486-b3de-02cf13510285",
        "colab": {
          "base_uri": "https://localhost:8080/",
          "height": 206
        }
      },
      "source": [
        "grouped_df.head()"
      ],
      "execution_count": 81,
      "outputs": [
        {
          "output_type": "execute_result",
          "data": {
            "text/html": [
              "<div>\n",
              "<style scoped>\n",
              "    .dataframe tbody tr th:only-of-type {\n",
              "        vertical-align: middle;\n",
              "    }\n",
              "\n",
              "    .dataframe tbody tr th {\n",
              "        vertical-align: top;\n",
              "    }\n",
              "\n",
              "    .dataframe thead th {\n",
              "        text-align: right;\n",
              "    }\n",
              "</style>\n",
              "<table border=\"1\" class=\"dataframe\">\n",
              "  <thead>\n",
              "    <tr style=\"text-align: right;\">\n",
              "      <th></th>\n",
              "      <th>trestbps_categ</th>\n",
              "      <th>chol_categ</th>\n",
              "      <th>fbs</th>\n",
              "      <th>num</th>\n",
              "      <th>contagem</th>\n",
              "      <th>porcentagem</th>\n",
              "    </tr>\n",
              "  </thead>\n",
              "  <tbody>\n",
              "    <tr>\n",
              "      <th>0</th>\n",
              "      <td>0</td>\n",
              "      <td>0</td>\n",
              "      <td>0</td>\n",
              "      <td>0</td>\n",
              "      <td>4</td>\n",
              "      <td>1.320132</td>\n",
              "    </tr>\n",
              "    <tr>\n",
              "      <th>1</th>\n",
              "      <td>0</td>\n",
              "      <td>0</td>\n",
              "      <td>0</td>\n",
              "      <td>1</td>\n",
              "      <td>1</td>\n",
              "      <td>0.330033</td>\n",
              "    </tr>\n",
              "    <tr>\n",
              "      <th>2</th>\n",
              "      <td>0</td>\n",
              "      <td>1</td>\n",
              "      <td>0</td>\n",
              "      <td>0</td>\n",
              "      <td>7</td>\n",
              "      <td>2.310231</td>\n",
              "    </tr>\n",
              "    <tr>\n",
              "      <th>3</th>\n",
              "      <td>0</td>\n",
              "      <td>1</td>\n",
              "      <td>0</td>\n",
              "      <td>1</td>\n",
              "      <td>8</td>\n",
              "      <td>2.640264</td>\n",
              "    </tr>\n",
              "    <tr>\n",
              "      <th>4</th>\n",
              "      <td>0</td>\n",
              "      <td>1</td>\n",
              "      <td>1</td>\n",
              "      <td>0</td>\n",
              "      <td>2</td>\n",
              "      <td>0.660066</td>\n",
              "    </tr>\n",
              "  </tbody>\n",
              "</table>\n",
              "</div>"
            ],
            "text/plain": [
              "   trestbps_categ  chol_categ  fbs  num  contagem  porcentagem\n",
              "0               0           0    0    0         4     1.320132\n",
              "1               0           0    0    1         1     0.330033\n",
              "2               0           1    0    0         7     2.310231\n",
              "3               0           1    0    1         8     2.640264\n",
              "4               0           1    1    0         2     0.660066"
            ]
          },
          "metadata": {
            "tags": []
          },
          "execution_count": 81
        }
      ]
    },
    {
      "cell_type": "markdown",
      "metadata": {
        "id": "jtlwn8ysE4vL",
        "colab_type": "text"
      },
      "source": [
        "#Preparo para representação dos dados em gráfico.\n",
        "Para que consigamos produzir gráficos seguindo a mesma lógica de interpretação apresentada anteriormente, vamos criar um DataFrame denominado **final_group**. Serão realizados os seguintes passos: \n",
        "* Criar um DataFrame denominado group_2. \n",
        "* Fazer a fusão do DataFrame recém criado **group_2** com DataFrame já existente **grouped_df**.\n",
        "* Para isso será utilizado o método `merge()`.\n",
        " \n",
        " Porque realizar todo esse processo? Isso permite trabalhar tanto os dados agrupados, quanto com as colunas individualmente. Garantindo uma flexibilidade na visualização dos dados. "
      ]
    },
    {
      "cell_type": "code",
      "metadata": {
        "id": "1AhLYYFm_KFJ",
        "colab_type": "code",
        "colab": {}
      },
      "source": [
        "#Cria o DataFrame group_2 e renomea a nova coluna como 'contagem'\n",
        "group_2 = pd.DataFrame(selected_df.groupby(['trestbps_categ', 'chol_categ', 'fbs', 'num']).size()) \n",
        "group_2.columns = ['contagem']"
      ],
      "execution_count": 0,
      "outputs": []
    },
    {
      "cell_type": "code",
      "metadata": {
        "id": "1QC7HgSQ_akO",
        "colab_type": "code",
        "colab": {}
      },
      "source": [
        "#Faz a fusão utilizando o método merge() e inclui o índice do group_2 como coluna.\n",
        "final_group = pd.merge(grouped_df, group_2, how='left', on=[group_2.index])"
      ],
      "execution_count": 0,
      "outputs": []
    },
    {
      "cell_type": "code",
      "metadata": {
        "id": "UUClX3_5BIRZ",
        "colab_type": "code",
        "outputId": "3f5e290f-99c7-4b8e-9c66-2101632eedee",
        "colab": {
          "base_uri": "https://localhost:8080/",
          "height": 206
        }
      },
      "source": [
        "#Vizualiza se os procedimentos foram realizados corretamente\n",
        "final_group.head()"
      ],
      "execution_count": 84,
      "outputs": [
        {
          "output_type": "execute_result",
          "data": {
            "text/html": [
              "<div>\n",
              "<style scoped>\n",
              "    .dataframe tbody tr th:only-of-type {\n",
              "        vertical-align: middle;\n",
              "    }\n",
              "\n",
              "    .dataframe tbody tr th {\n",
              "        vertical-align: top;\n",
              "    }\n",
              "\n",
              "    .dataframe thead th {\n",
              "        text-align: right;\n",
              "    }\n",
              "</style>\n",
              "<table border=\"1\" class=\"dataframe\">\n",
              "  <thead>\n",
              "    <tr style=\"text-align: right;\">\n",
              "      <th></th>\n",
              "      <th>key_0</th>\n",
              "      <th>trestbps_categ</th>\n",
              "      <th>chol_categ</th>\n",
              "      <th>fbs</th>\n",
              "      <th>num</th>\n",
              "      <th>contagem_x</th>\n",
              "      <th>porcentagem</th>\n",
              "      <th>contagem_y</th>\n",
              "    </tr>\n",
              "  </thead>\n",
              "  <tbody>\n",
              "    <tr>\n",
              "      <th>0</th>\n",
              "      <td>(0, 0, 0, 0)</td>\n",
              "      <td>0</td>\n",
              "      <td>0</td>\n",
              "      <td>0</td>\n",
              "      <td>0</td>\n",
              "      <td>4</td>\n",
              "      <td>1.320132</td>\n",
              "      <td>4</td>\n",
              "    </tr>\n",
              "    <tr>\n",
              "      <th>1</th>\n",
              "      <td>(0, 0, 0, 1)</td>\n",
              "      <td>0</td>\n",
              "      <td>0</td>\n",
              "      <td>0</td>\n",
              "      <td>1</td>\n",
              "      <td>1</td>\n",
              "      <td>0.330033</td>\n",
              "      <td>1</td>\n",
              "    </tr>\n",
              "    <tr>\n",
              "      <th>2</th>\n",
              "      <td>(0, 1, 0, 0)</td>\n",
              "      <td>0</td>\n",
              "      <td>1</td>\n",
              "      <td>0</td>\n",
              "      <td>0</td>\n",
              "      <td>7</td>\n",
              "      <td>2.310231</td>\n",
              "      <td>7</td>\n",
              "    </tr>\n",
              "    <tr>\n",
              "      <th>3</th>\n",
              "      <td>(0, 1, 0, 1)</td>\n",
              "      <td>0</td>\n",
              "      <td>1</td>\n",
              "      <td>0</td>\n",
              "      <td>1</td>\n",
              "      <td>8</td>\n",
              "      <td>2.640264</td>\n",
              "      <td>8</td>\n",
              "    </tr>\n",
              "    <tr>\n",
              "      <th>4</th>\n",
              "      <td>(0, 1, 1, 0)</td>\n",
              "      <td>0</td>\n",
              "      <td>1</td>\n",
              "      <td>1</td>\n",
              "      <td>0</td>\n",
              "      <td>2</td>\n",
              "      <td>0.660066</td>\n",
              "      <td>2</td>\n",
              "    </tr>\n",
              "  </tbody>\n",
              "</table>\n",
              "</div>"
            ],
            "text/plain": [
              "          key_0  trestbps_categ  ...  porcentagem  contagem_y\n",
              "0  (0, 0, 0, 0)               0  ...     1.320132           4\n",
              "1  (0, 0, 0, 1)               0  ...     0.330033           1\n",
              "2  (0, 1, 0, 0)               0  ...     2.310231           7\n",
              "3  (0, 1, 0, 1)               0  ...     2.640264           8\n",
              "4  (0, 1, 1, 0)               0  ...     0.660066           2\n",
              "\n",
              "[5 rows x 8 columns]"
            ]
          },
          "metadata": {
            "tags": []
          },
          "execution_count": 84
        }
      ]
    },
    {
      "cell_type": "markdown",
      "metadata": {
        "id": "4QH_ypDpHsN7",
        "colab_type": "text"
      },
      "source": [
        "Notem que o novo DataFrame possui duas colunas denominadas contagem. Isso porquê elas existiam em ambos DataFrame. Dessa forma, vamos remover a coluna '**contagem_y**'. Para isso será utilzido o método `drop()`."
      ]
    },
    {
      "cell_type": "code",
      "metadata": {
        "id": "2BKFV-IFAS3X",
        "colab_type": "code",
        "colab": {}
      },
      "source": [
        "#Remove a coluna\n",
        "final_group.drop(columns=['contagem_y'], inplace=True)"
      ],
      "execution_count": 0,
      "outputs": []
    },
    {
      "cell_type": "markdown",
      "metadata": {
        "id": "RLzU6MHX97CN",
        "colab_type": "text"
      },
      "source": [
        "###Atribuindo legendas\n",
        "Vamos inserir uma coluna denominada **diagnostico** onde pacientes que apresentam doença cardíaca coronariana será atribuído **positivo** e pacientes que não apresentam essa condição será atribuído **negativo**.\n",
        "\n",
        "\n",
        "**Observação:**Note que A palavra diagnóstico foi inserida sem acento agudo para evitar erros de interpretação da linguagem de programação.\n"
      ]
    },
    {
      "cell_type": "code",
      "metadata": {
        "id": "fdtuuDrj0FgW",
        "colab_type": "code",
        "colab": {}
      },
      "source": [
        "#Atribui valores positivo e negativo para pacientes com presença ou ausência de doença coronariana cardíaca.\n",
        "diagnostico = []\n",
        "for i in final_group['num']:\n",
        "  if i == 0:\n",
        "    i = 'negativo'\n",
        "    diagnostico.append(i)\n",
        "  if i == 1:\n",
        "    i = 'positivo'\n",
        "    diagnostico.append(i)"
      ],
      "execution_count": 0,
      "outputs": []
    },
    {
      "cell_type": "code",
      "metadata": {
        "id": "Rfi-9dQ40LbV",
        "colab_type": "code",
        "colab": {}
      },
      "source": [
        "#Inclui a coluna com dados categorizados no dataframe com o nome diagnostico\n",
        "final_group['diagnostico'] = diagnostico"
      ],
      "execution_count": 0,
      "outputs": []
    },
    {
      "cell_type": "code",
      "metadata": {
        "id": "h9nwij5dPFHU",
        "colab_type": "code",
        "colab": {}
      },
      "source": [
        "final_group.rename(columns={'key_0': 'grupos', 'contagem_x': 'contagem'}, inplace=True)"
      ],
      "execution_count": 0,
      "outputs": []
    },
    {
      "cell_type": "code",
      "metadata": {
        "id": "trnlFu4zOH4S",
        "colab_type": "code",
        "outputId": "e0cd389e-4112-49e2-ab04-091a81ef5f1b",
        "colab": {
          "base_uri": "https://localhost:8080/",
          "height": 206
        }
      },
      "source": [
        "final_group.head()"
      ],
      "execution_count": 89,
      "outputs": [
        {
          "output_type": "execute_result",
          "data": {
            "text/html": [
              "<div>\n",
              "<style scoped>\n",
              "    .dataframe tbody tr th:only-of-type {\n",
              "        vertical-align: middle;\n",
              "    }\n",
              "\n",
              "    .dataframe tbody tr th {\n",
              "        vertical-align: top;\n",
              "    }\n",
              "\n",
              "    .dataframe thead th {\n",
              "        text-align: right;\n",
              "    }\n",
              "</style>\n",
              "<table border=\"1\" class=\"dataframe\">\n",
              "  <thead>\n",
              "    <tr style=\"text-align: right;\">\n",
              "      <th></th>\n",
              "      <th>grupos</th>\n",
              "      <th>trestbps_categ</th>\n",
              "      <th>chol_categ</th>\n",
              "      <th>fbs</th>\n",
              "      <th>num</th>\n",
              "      <th>contagem</th>\n",
              "      <th>porcentagem</th>\n",
              "      <th>diagnostico</th>\n",
              "    </tr>\n",
              "  </thead>\n",
              "  <tbody>\n",
              "    <tr>\n",
              "      <th>0</th>\n",
              "      <td>(0, 0, 0, 0)</td>\n",
              "      <td>0</td>\n",
              "      <td>0</td>\n",
              "      <td>0</td>\n",
              "      <td>0</td>\n",
              "      <td>4</td>\n",
              "      <td>1.320132</td>\n",
              "      <td>negativo</td>\n",
              "    </tr>\n",
              "    <tr>\n",
              "      <th>1</th>\n",
              "      <td>(0, 0, 0, 1)</td>\n",
              "      <td>0</td>\n",
              "      <td>0</td>\n",
              "      <td>0</td>\n",
              "      <td>1</td>\n",
              "      <td>1</td>\n",
              "      <td>0.330033</td>\n",
              "      <td>positivo</td>\n",
              "    </tr>\n",
              "    <tr>\n",
              "      <th>2</th>\n",
              "      <td>(0, 1, 0, 0)</td>\n",
              "      <td>0</td>\n",
              "      <td>1</td>\n",
              "      <td>0</td>\n",
              "      <td>0</td>\n",
              "      <td>7</td>\n",
              "      <td>2.310231</td>\n",
              "      <td>negativo</td>\n",
              "    </tr>\n",
              "    <tr>\n",
              "      <th>3</th>\n",
              "      <td>(0, 1, 0, 1)</td>\n",
              "      <td>0</td>\n",
              "      <td>1</td>\n",
              "      <td>0</td>\n",
              "      <td>1</td>\n",
              "      <td>8</td>\n",
              "      <td>2.640264</td>\n",
              "      <td>positivo</td>\n",
              "    </tr>\n",
              "    <tr>\n",
              "      <th>4</th>\n",
              "      <td>(0, 1, 1, 0)</td>\n",
              "      <td>0</td>\n",
              "      <td>1</td>\n",
              "      <td>1</td>\n",
              "      <td>0</td>\n",
              "      <td>2</td>\n",
              "      <td>0.660066</td>\n",
              "      <td>negativo</td>\n",
              "    </tr>\n",
              "  </tbody>\n",
              "</table>\n",
              "</div>"
            ],
            "text/plain": [
              "         grupos  trestbps_categ  chol_categ  ...  contagem  porcentagem  diagnostico\n",
              "0  (0, 0, 0, 0)               0           0  ...         4     1.320132     negativo\n",
              "1  (0, 0, 0, 1)               0           0  ...         1     0.330033     positivo\n",
              "2  (0, 1, 0, 0)               0           1  ...         7     2.310231     negativo\n",
              "3  (0, 1, 0, 1)               0           1  ...         8     2.640264     positivo\n",
              "4  (0, 1, 1, 0)               0           1  ...         2     0.660066     negativo\n",
              "\n",
              "[5 rows x 8 columns]"
            ]
          },
          "metadata": {
            "tags": []
          },
          "execution_count": 89
        }
      ]
    },
    {
      "cell_type": "markdown",
      "metadata": {
        "id": "YRT1vMYD3ilA",
        "colab_type": "text"
      },
      "source": [
        "## Visualização dos resultados. \n",
        "Para visualizar os dados presentes na tabela, será contruído um gráfico de barras comparando a distrubuição dos dados de acordo com o agrupamento. Para isso será utilizado a coluna porcentagem. \n"
      ]
    },
    {
      "cell_type": "code",
      "metadata": {
        "id": "hzyCXLkBeBNB",
        "colab_type": "code",
        "outputId": "808d837c-f908-479a-faf9-8a7fa2c616d2",
        "colab": {
          "base_uri": "https://localhost:8080/",
          "height": 663
        }
      },
      "source": [
        "fig, ax = plt.subplots(figsize=(20,10))\n",
        "\n",
        "ax = sns.barplot(x='grupos', y='porcentagem', hue='diagnostico', data=final_group, dodge=False)\n",
        "ax.set_xticklabels(final_group.grupos, rotation=90, size=12)\n",
        "ax.set_xlabel('Grupos', fontsize=15)\n",
        "ax.set_ylabel('Porcentagem', fontsize=15)\n",
        "ax.tick_params(axis='both', labelsize=12)\n",
        "plt.legend(title='Diagnóstico',title_fontsize=15, loc='upper right', fontsize= 13)\n",
        "\n",
        "bbox_props = dict(boxstyle=\"circle\", fc='none', ec='#6CE46C', lw=4) #estilo dos marcadores no gráfico, círculos \n",
        "plt.text(5.5, 3.8, s=' ', ha=\"center\", va='center', size=20, bbox=bbox_props) # ooordenadas dos círculos no gráfico\n",
        "\n",
        "bbox_props = dict(boxstyle=\"circle\", fc='none', ec='#6CE46C', lw=4)\n",
        "plt.text(9.5, 2.80, s=' ', ha=\"center\", va='center', size=20, bbox=bbox_props)\n",
        "\n",
        "bbox_props = dict(boxstyle=\"circle\", fc='none', ec='#6CE46C', lw=4)\n",
        "plt.text(12.5, 1.75, s=' ', ha=\"center\", va='center', size=20, bbox=bbox_props)\n",
        "\n",
        "bbox_props = dict(boxstyle=\"circle\", fc='none', ec='#6CE46C', lw=4)\n",
        "plt.text(30.5, 1.6, s=' ', ha=\"center\", va='center', size=20, bbox=bbox_props)\n",
        "\n",
        "bbox_props = dict(boxstyle=\"circle\", fc='none', ec='#6CE46C', lw=4)\n",
        "plt.text(32.5, 1.2, s=' ', ha=\"center\", va='center', size=20, bbox=bbox_props)\n",
        "\n",
        "bbox_props = dict(boxstyle=\"circle\", fc='none', ec='#DD0808', lw=4)\n",
        "plt.text(36.5, 0.9, s=' ', ha=\"center\", va='center', size=20, bbox=bbox_props)\n",
        "\n",
        "bbox_props = dict(boxstyle=\"circle\", fc='none', ec='#DD0808', lw=4)\n",
        "plt.text(38.5, 0.7, s=' ', ha=\"center\", va='center', size=20, bbox=bbox_props);\n",
        "\n",
        "bbox_props = dict(boxstyle=\"circle\", fc='none', ec='#DD0808', lw=4)\n",
        "plt.text(44.5, 2.5, s=' ', ha=\"center\", va='center', size=20, bbox=bbox_props);\n",
        "\n",
        "bbox_props = dict(boxstyle=\"circle\", fc='none', ec='#DD0808', lw=4)\n",
        "plt.text(48.5, 2.5, s=' ', ha=\"center\", va='center', size=20, bbox=bbox_props);\n",
        "\n",
        "bbox_props = dict(boxstyle=\"circle\", fc='none', ec='#DD0808', lw=4)\n",
        "plt.text(51.5, 1.5, s=' ', ha=\"center\", va='center', size=20, bbox=bbox_props);\n",
        "\n",
        "bbox_props = dict(boxstyle=\"circle\", fc='none', ec='#DD0808', lw=4)\n",
        "plt.text(60.5, 0.2, s=' ', ha=\"center\", va='center', size=20, bbox=bbox_props);\n",
        "\n",
        "bbox_props = dict(boxstyle=\"circle\", fc='none', ec='#DD0808', lw=4)\n",
        "plt.text(63.5, 0.8, s=' ', ha=\"center\", va='center', size=20, bbox=bbox_props);\n"
      ],
      "execution_count": 90,
      "outputs": [
        {
          "output_type": "display_data",
          "data": {
            "image/png": "[encoded data removed]",
            "text/plain": [
              "<Figure size 1440x720 with 1 Axes>"
            ]
          },
          "metadata": {
            "tags": []
          }
        }
      ]
    },
    {
      "cell_type": "markdown",
      "metadata": {
        "id": "Z5z_Jc18tguF",
        "colab_type": "text"
      },
      "source": [
        "##Resultados \n",
        "\n",
        "No gráfico acima, pacientes que <b>não</b> apresentam doença cardíaca coronariana estão representados pelas barras azuis. Enquato pacientes que apresentam doença cárdíaca coronariana estão representados pelas barras laranjas. A leitura do eixo denominado grupos segue a mesma lógica da tabela anterior. \n",
        "&nbsp;\n",
        "\n",
        "Após o processo de estruturação dos dados e construção do gráfico, é possível perceber algumas características importantes no grupo de pacientes. O gráfico apresenta circulos verdes e vermelhos, que são alguns pontos que merecem destaque. O círculos estão posicionados sobre grupos de pacientes que apresentam resultados de exames semelhantes. Entretanto o disgnóstico foi positivo para um grupo e negativo para outro grupo. Destacando a relação entre pacientes com diagnóstico negativo (barra azul) com aqueles com diagnóstico positivo (laranja) para doença cardíaca coronariana.\n",
        "&nbsp;\n",
        "\n",
        "Os círculos verdes estão posicionado sobre os grupos onde, a porcentagem de pessoas com resultados de exames semelhantes e que não apresentaram doença cardíaca foi nítidamente maior que aquelas diagnosticadas com doença cardíaca coronariana. Os círculos vermelhos representam pontos onde ocorreu a inversão desse padrão, tornando-se mais recorrente à medida que os resultados dos exames foram apresentando o quadro clínico dos pacientes era mais graves, fato este perfeitamente compreensível.\n",
        "\n",
        "Aqui foram utilizadas apenas 3 variáveis mais o diagnóstico (positivo ou negativo). Fato que utilizando um número maior de variáveis seja possível alcançar um nível maior de detalhamento. Esse é exatamento o trabalho dos algoritmos de inteligência artificial.\n",
        "\n"
      ]
    },
    {
      "cell_type": "markdown",
      "metadata": {
        "id": "A7aXzL7AAPhY",
        "colab_type": "text"
      },
      "source": [
        "#**Conclusão**\n",
        "A análise exploratória dos dos dados permitiu ter uma melhor visualização das características dos  dados utilizados neste teste clínico. Foi possível constatar que a média de idade dos pacientes foi de 54 anos, mas a maior parte dos pacientes apresentaram idade acima de 40 anos. Além disso, analisando os níveis de colesterol total e pressão arterial sistólia, foi possível observar que grande parte dos pacientes apresentaram resultados acima do recomendado (baseado nos parâmetros da Diretriz de Prevenção Cardiovascular da Sociedade Brasileira de Cardiologia). \n",
        "\n",
        "O agrupamento dos dados permitiu visualizar que utilizar poucas variáveis pode não ser o suficiente para ter uma precisão satisfatória no resultado.\n",
        "\n",
        "Isso mostra a importancia não só da análise exploratória, mas a própria construção de um banco de dados que permita a unidades de saúde entender as características de seus pacientes e da população como um todo. Fornecendo às instituição de saúde uma ferramenta que proporcione um ganho na eficiência e precisão de diagnósticos. "
      ]
    },
    {
      "cell_type": "markdown",
      "metadata": {
        "id": "5swwa95B7eWa",
        "colab_type": "text"
      },
      "source": [
        "####**Referência**\n",
        "\n",
        "Detrano R, Janosi A, Steinbrunn W, Pfisterer M, Schmid JJ, Sandhu S, Guppy K H, Lee S, Froelicher V. International application of a new probability algorithm for the diagnosis of coronary artery disease. The American Journal of Cardiology, vol 64, 5, 1989, 304-310.\n",
        "\n",
        "Précoma DB, Oliveira GMM, Simão AF, Dutra OP, Coelho OR, Izar MCO, et al. Atualização da Diretriz de Prevenção Cardiovascular da Sociedade Brasileira de Cardiologia – 2019. Arq Bras Cardiol. 2019; 113(4):787-891\n"
      ]
    }
  ]
}